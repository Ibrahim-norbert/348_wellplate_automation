{
 "cells": [
  {
   "cell_type": "code",
   "execution_count": null,
   "id": "c948230c-230c-4613-950a-14276a204ca2",
   "metadata": {},
   "outputs": [],
   "source": []
  },
  {
   "cell_type": "markdown",
   "id": "305dff1c835b9392",
   "metadata": {},
   "source": [
    "23.03 Confirm Homography transition "
   ]
  },
  {
   "cell_type": "markdown",
   "id": "95bc9962-2029-493c-8a08-fbbedf74abb9",
   "metadata": {},
   "source": [
    "# Display the 384 well plate"
   ]
  },
  {
   "cell_type": "code",
   "execution_count": 1,
   "id": "92bcc3c1-7e1d-46eb-98ca-1bf8e2259629",
   "metadata": {
    "ExecuteTime": {
     "end_time": "2024-03-23T17:31:41.863029300Z",
     "start_time": "2024-03-23T17:31:41.504245200Z"
    },
    "tags": []
   },
   "outputs": [
    {
     "name": "stdout",
     "output_type": "stream",
     "text": [
      "search for root_dir and set working directory\n",
      "Working directory set to: /media/ibrahim/Extended Storage/cloud/Internship/bioquant/348_wellplate_automation\n",
      "/media/ibrahim/Extended Storage/cloud/Internship/bioquant/348_wellplate_automation\n"
     ]
    }
   ],
   "source": [
    "import json\n",
    "import os\n",
    "\n",
    "from ProjectRoot import change_wd_to_project_root\n",
    "change_wd_to_project_root()\n",
    "\n",
    "x_paths = [\"/endpoint_outputs/Top right_xposition.json\",\n",
    "          \"endpoint_outputs/Top left_xposition.json\",\n",
    "          \"endpoint_outputs/Bottom left_xposition.json\"]\n",
    "\n",
    "y_paths = [\"endpoint_outputs/Top right_yposition.json\", \"endpoint_outputs/Top left_yposition.json\",\n",
    "          \"endpoint_outputs/Bottom left_yposition.json\"]\n",
    "data_path = os.getcwd()\n",
    "print(data_path)\n",
    "tr, tl, bl = [ [eval(json.load(open(data_path + \"/\" + x))[\"Value\"]),eval(json.load(open(data_path + \"/\" + y))[\"Value\"])] for x,y in zip(x_paths, y_paths) ]\n",
    "r_n, c_n = 16, 24\n",
    "\n",
    "from DragonFlyWellPlateAutomation.gui.Visualisation import setplotlimits, setticks\n",
    "import matplotlib.pyplot as plt\n",
    "import numpy as np\n",
    "\n",
    "\n",
    "import matplotlib.pyplot as plt\n",
    "import numpy as np\n",
    "\n",
    "\n",
    "def create_plot(xmin=-50, \n",
    "    xmax=60,\n",
    "    ymin=-39,\n",
    "    ymax= 34):\n",
    "    \n",
    "    # All values are in mm\n",
    "\n",
    "    fig, axis = plt.subplots(figsize=(11,7.2))\n",
    "\n",
    "\n",
    "    ## Reduce scatter point to field of view size\n",
    "    fov = 250*10**(-6) * 1024\n",
    "\n",
    "\n",
    "\n",
    "    axis.set_xlim(xmin, xmax)\n",
    "    axis.set_ylim(ymin, ymax)\n",
    "\n",
    "    c_n = 24\n",
    "    r_n = 16\n",
    "\n",
    "    borders_c = c_n+1\n",
    "    borders_r = r_n+1\n",
    "    x_coords, xstep =np.linspace(xmin, xmax,borders_c, retstep=True)\n",
    "    ycoords, ystep=np.linspace(ymin, ymax, borders_r, retstep=True)\n",
    "    axis.set_xticks(x_coords, minor=True)\n",
    "    axis.set_yticks(ycoords, minor=True)\n",
    "        # Gridlines based on minor ticks\n",
    "    axis.grid(which='minor')\n",
    "    axis.tick_params(which='minor', bottom=False, left=False)\n",
    "\n",
    "\n",
    "\n",
    "\n",
    "    axis.set_title('Real-Time {} well plate positioning'.format(c_n * r_n), fontsize=20)\n",
    "\n",
    "    \n",
    "\n",
    "    # Major ticks\n",
    "    x_values=list(range(1, c_n+1))\n",
    "    y_values= [x for x in \"ABCDEFGHIJKLMNOPQRSTUVWXYZ\"[:r_n]]\n",
    "    axis.set_xticks(np.linspace(xmin+(xstep/2),xmax-(xstep/2), c_n), minor=False)\n",
    "    axis.set_yticks(np.linspace(ymin+(ystep/2),ymax-(ystep/2),r_n), minor=False)\n",
    "    \n",
    "    # Labels for major ticks\n",
    "    axis.set_xticklabels(x_values, minor=False)\n",
    "    axis.set_yticklabels(reversed(y_values), minor=False)\n",
    "    \n",
    "    \n",
    "\n",
    "\n",
    "    axis.tick_params(axis='x', labelsize='medium')\n",
    "\n",
    "    axis.tick_params(axis='y', labelsize='medium')\n",
    "    \n",
    "    axis.set_aspect(\"equal\")\n",
    "\n",
    "    ### Get normalized length and height of axis\n",
    "    # Scaling factor of y and x \n",
    "    transform = ((404.43636364-79.78181818)/72)\n",
    "    well_h= 4.5\n",
    "    print(transform)\n",
    "    #Pixels\n",
    "    well_h_pixels = (well_h * transform) \n",
    "    #Points\n",
    "    p = 72/100\n",
    "    print(well_h_pixels)\n",
    "    #s\n",
    "    s = (well_h_pixels*p)**2\n",
    "    y_offset = (2/16)\n",
    "    x_offset = (2/24)\n",
    "    fov = 250*10**(-6) * 1024 #height\n",
    "    s = (fov*p)**2\n",
    "\n",
    "    print(\"x and y step: {} and {}\".format(xstep, ystep))\n",
    "    print(\"Ymin {} and Ymax {}\".format(min(ycoords), max(ycoords)))\n",
    "    print(\"Xmin {} and Xmax {}\".format(min(x_coords), max(x_coords)))\n",
    "    return axis\n",
    "\n"
   ]
  },
  {
   "cell_type": "code",
   "execution_count": 1,
   "id": "db41aebc-2889-4014-8f8d-2f4309a101f2",
   "metadata": {
    "ExecuteTime": {
     "end_time": "2024-03-23T15:12:26.193656Z",
     "start_time": "2024-03-23T15:12:26.191651100Z"
    },
    "tags": []
   },
   "outputs": [],
   "source": []
  },
  {
   "cell_type": "code",
   "execution_count": null,
   "id": "7a22da1e-6211-4cd8-86b1-9dbb21ebd41b",
   "metadata": {
    "tags": []
   },
   "outputs": [],
   "source": []
  },
  {
   "cell_type": "code",
   "execution_count": null,
   "id": "01b036e9-6783-4907-ad89-1ce8f77d4720",
   "metadata": {
    "tags": []
   },
   "outputs": [],
   "source": []
  },
  {
   "cell_type": "code",
   "execution_count": 7,
   "id": "c803494e-9128-4177-8942-45ce51975f5b",
   "metadata": {
    "ExecuteTime": {
     "end_time": "2024-03-23T15:15:06.536272900Z",
     "start_time": "2024-03-23T15:15:06.534762900Z"
    },
    "tags": []
   },
   "outputs": [
    {
     "name": "stdout",
     "output_type": "stream",
     "text": [
      "[-47.7, 33.1]\n"
     ]
    }
   ],
   "source": [
    "print(tl)"
   ]
  },
  {
   "cell_type": "code",
   "execution_count": 6,
   "id": "b04ed515-b242-4684-87f8-201d98258565",
   "metadata": {
    "ExecuteTime": {
     "end_time": "2024-03-23T15:15:04.479755100Z",
     "start_time": "2024-03-23T15:15:04.477796800Z"
    },
    "tags": []
   },
   "outputs": [
    {
     "name": "stdout",
     "output_type": "stream",
     "text": [
      "[-47.7, -38.6]\n"
     ]
    }
   ],
   "source": [
    "print(bl)"
   ]
  },
  {
   "cell_type": "code",
   "execution_count": null,
   "id": "3d55ff59-3d2e-4d5c-a4e5-6ecd1614e25e",
   "metadata": {},
   "outputs": [],
   "source": [
    "# Save this as marker occuping one cell\n",
    "axis.scatter(xmin + (4.5/2) + x_offset, ymax-(4.5/2)-y_offset, c=\"r\", s=s, marker=\",\")"
   ]
  },
  {
   "cell_type": "code",
   "execution_count": null,
   "id": "e5ab2478-e49b-4a43-b609-2afdcaccbf6f",
   "metadata": {
    "tags": []
   },
   "outputs": [],
   "source": [
    "- 60 - 50 # 110 x length\n",
    "\n",
    "-40 - 32 # 72mm x heightnp.array(\n"
   ]
  },
  {
   "cell_type": "code",
   "execution_count": null,
   "id": "7348bd1d-f3bd-4235-bfa3-b651e5bf14c5",
   "metadata": {
    "tags": []
   },
   "outputs": [],
   "source": [
    "axis.transData.transform((-50, -38)) #x,y for bl"
   ]
  },
  {
   "cell_type": "code",
   "execution_count": null,
   "id": "cbcec7a6-ea8c-43cf-80d6-4a040c1b9ffb",
   "metadata": {
    "tags": []
   },
   "outputs": [],
   "source": [
    "axis.transData.transform((-50, 34)) #x,y for tl"
   ]
  },
  {
   "cell_type": "code",
   "execution_count": null,
   "id": "91a9868a-7a32-4f60-aabd-096d5fcde9c6",
   "metadata": {},
   "outputs": [],
   "source": []
  },
  {
   "cell_type": "code",
   "execution_count": null,
   "id": "dfaf6dcf-b1a3-4668-9b31-5b75686158bf",
   "metadata": {
    "tags": []
   },
   "outputs": [],
   "source": []
  },
  {
   "cell_type": "markdown",
   "id": "562dde3b-569c-49a9-9d2b-909342b03332",
   "metadata": {},
   "source": [
    "## Predict coordinates of wells using 384 well plate class"
   ]
  },
  {
   "cell_type": "code",
   "execution_count": 2,
   "id": "ad16ed64-11c3-490c-967d-59ad2fd18abb",
   "metadata": {
    "ExecuteTime": {
     "end_time": "2024-03-23T17:31:45.485053900Z",
     "start_time": "2024-03-23T17:31:45.459184300Z"
    },
    "tags": []
   },
   "outputs": [
    {
     "name": "stdout",
     "output_type": "stream",
     "text": [
      "search for root_dir and set working directory\n",
      "Working directory set to: /media/ibrahim/Extended Storage/cloud/Internship/bioquant/348_wellplate_automation\n",
      "search for root_dir and set working directory\n",
      "Working directory set to: /media/ibrahim/Extended Storage/cloud/Internship/bioquant/348_wellplate_automation\n"
     ]
    }
   ],
   "source": [
    "import json\n",
    "from ProjectRoot import change_wd_to_project_root\n",
    "change_wd_to_project_root()\n",
    "from DragonFlyWellPlateAutomation.devices.wellplate import WellPlate as wp\n",
    "\n",
    "\n",
    "WellPlate = wp()\n",
    "WellPlate.well_plate_req_coords[\"Top right well\"] = WellPlate.vector_2_state_dict(tr)\n",
    "WellPlate.well_plate_req_coords[\"Top left well\"] = WellPlate.vector_2_state_dict(tl)\n",
    "WellPlate.well_plate_req_coords[\"Bottom left well\"] = WellPlate.vector_2_state_dict(bl)"
   ]
  },
  {
   "cell_type": "markdown",
   "id": "ad7ca96b-c055-4add-a25b-98e6ef6c0751",
   "metadata": {},
   "source": [
    "### Try 1: Publication with 4 corners"
   ]
  },
  {
   "cell_type": "code",
   "execution_count": 6,
   "id": "2586228b-9ff2-4f7f-b4fb-86485c526e59",
   "metadata": {
    "ExecuteTime": {
     "end_time": "2024-03-23T15:50:24.846148900Z",
     "start_time": "2024-03-23T15:50:16.951658100Z"
    },
    "tags": []
   },
   "outputs": [
    {
     "name": "stdout",
     "output_type": "stream",
     "text": [
      "1. Getting all four corner wells coordinates as vectors\n",
      "2. Computing coordinate space from well corners using Linear correction matrix\n",
      "Saving all variables associated to the coordinate system.\n",
      "4.509090909166667\n",
      "20.29090909125\n",
      "4.509090909166667\n",
      "20.29090909125\n",
      "x and y step: 4.583333333333333 and 4.5625\n",
      "Ymin -39.0 and Ymax 34.0\n",
      "Xmin -50.0 and Xmax 60.0\n"
     ]
    }
   ],
   "source": [
    "# Now visualise on coordinate plot method from publication\n",
    "vectors, well_names, length, height, x_spacing = WellPlate.predict_well_coords(c_n, r_n, algorithm=WellPlate.coordinate_frame_algorithms[1], algorithm_H=\"non-linear\", well_plate_req_coords=WellPlate.well_plate_req_coords\n",
    "                            )\n",
    "### Get normalized length and height of axis\n",
    "# Scaling factor of y and x \n",
    "transform = ((404.43636364-79.78181818)/72)\n",
    "well_h= 4.5\n",
    "print(transform)\n",
    "#Pixels\n",
    "well_h_pixels = (well_h * transform) \n",
    "#Points\n",
    "p = 72/100\n",
    "print(well_h_pixels)\n",
    "#s\n",
    "s = (well_h_pixels*p)**2\n",
    "y_offset = (2/16)\n",
    "x_offset = (2/24)\n",
    "fov = 250*10**(-6) * 1024 #height\n",
    "s = (fov*p)**2\n",
    "    \n",
    "axis = create_plot()\n",
    "\n",
    "\n",
    "\n",
    "for vector, wellname in zip(vectors,well_names):\n",
    "    #print(\"Well name {} and its coordinate: {}\".format(wellname, vector))\n",
    "    x,y,_ = vector\n",
    "    axis.scatter(x,y, c=\"r\", s=s*100, marker=\",\")\n",
    "    axis.text(x, y, wellname, ha='center', va='bottom',fontsize=\"xx-small\")\n",
    "    \n",
    "plt.show()"
   ]
  },
  {
   "cell_type": "markdown",
   "id": "f5c9e73e-989f-4dfe-ae00-a74898e43cac",
   "metadata": {
    "tags": []
   },
   "source": [
    "### Try 2: Linear spacing with 3 corners"
   ]
  },
  {
   "cell_type": "code",
   "execution_count": 3,
   "id": "17200c21-59a8-423b-92e0-a1e842c74fb1",
   "metadata": {
    "ExecuteTime": {
     "end_time": "2024-03-23T15:55:49.434085100Z",
     "start_time": "2024-03-23T15:55:31.544132800Z"
    },
    "tags": []
   },
   "outputs": [
    {
     "name": "stdout",
     "output_type": "stream",
     "text": [
      "1. Getting all four corner wells coordinates as vectors\n",
      "2. Computing coordinate space from well corners using Linear spacing\n",
      "Saving all variables associated to the coordinate system.\n",
      "4.509090909166667\n",
      "20.29090909125\n",
      "4.509090909166667\n",
      "20.29090909125\n",
      "x and y step: 4.583333333333333 and 4.5625\n",
      "Ymin -39.0 and Ymax 34.0\n",
      "Xmin -50.0 and Xmax 60.0\n"
     ]
    }
   ],
   "source": [
    "vectors, well_names, length, height, x_spacing = WellPlate.predict_well_coords(c_n, r_n, algorithm=\"Linear spacing\", algorithm_H=\"non-linear\", well_plate_req_coords=WellPlate.well_plate_req_coords\n",
    "                            )\n",
    "\n",
    "### Get normalized length and height of axis\n",
    "# Scaling factor of y and x \n",
    "transform = ((404.43636364-79.78181818)/72)\n",
    "well_h= 4.5\n",
    "print(transform)\n",
    "#Pixels\n",
    "well_h_pixels = (well_h * transform) \n",
    "#Points\n",
    "p = 72/100\n",
    "print(well_h_pixels)\n",
    "#s\n",
    "s = (well_h_pixels*p)**2\n",
    "y_offset = (2/16)\n",
    "x_offset = (2/24)\n",
    "fov = 250*10**(-6) * 1024 #height\n",
    "s = (fov*p)**2\n",
    "    \n",
    "axis = create_plot()\n",
    "\n",
    "vectors = np.array(vectors, dtype=np.float32)\n",
    "if len(vectors[0]) < 3:\n",
    "    vectors = np.hstack((np.array(vectors, dtype=np.float32), np.zeros((len(vectors),1))))\n",
    "\n",
    "\n",
    "for vector, wellname in zip(vectors,well_names):\n",
    "    #print(\"Well name {} and its coordinate: {}\".format(wellname, vector))\n",
    "    x,y,_ = vector\n",
    "    axis.scatter(x,y, c=\"r\", s=s*100, marker=\",\")\n",
    "    axis.text(x, y, wellname, ha='center', va='bottom',fontsize=\"xx-small\")\n",
    "plt.show()"
   ]
  },
  {
   "cell_type": "markdown",
   "id": "2ce538bf-c5e0-4db7-a15d-baf8d6b8bcd1",
   "metadata": {},
   "source": [
    "### Try 3: Homography estimated using SVD"
   ]
  },
  {
   "cell_type": "code",
   "execution_count": 5,
   "id": "075759b5-8d2e-497d-9485-921ec2357839",
   "metadata": {
    "ExecuteTime": {
     "end_time": "2024-03-23T17:33:52.515261300Z",
     "start_time": "2024-03-23T17:33:44.699388400Z"
    },
    "tags": []
   },
   "outputs": [
    {
     "name": "stdout",
     "output_type": "stream",
     "text": [
      "1. Getting all four corner wells coordinates as vectors\n",
      "2. Computing coordinate space from well corners using Homography\n",
      "Learning the homography matrix using SVD to map from well plate row and column arrangement to xzy-stage coordinate space\n",
      "Saving all variables associated to the coordinate system.\n",
      "4.509090909166667\n",
      "20.29090909125\n",
      "4.509090909166667\n",
      "20.29090909125\n",
      "x and y step: 4.583333333333333 and 4.625\n",
      "Ymin -40.0 and Ymax 34.0\n",
      "Xmin -50.0 and Xmax 60.0\n"
     ]
    }
   ],
   "source": [
    "vectors, well_names, length, height, x_spacing = WellPlate.predict_well_coords(c_n, r_n, algorithm=\"Homography\", algorithm_H=\"SVD\", well_plate_req_coords=WellPlate.well_plate_req_coords\n",
    "                            )\n",
    "\n",
    "### Get normalized length and height of axis\n",
    "# Scaling factor of y and x \n",
    "transform = ((404.43636364-79.78181818)/72)\n",
    "well_h= 4.5\n",
    "print(transform)\n",
    "#Pixels\n",
    "well_h_pixels = (well_h * transform) \n",
    "#Points\n",
    "p = 72/100\n",
    "print(well_h_pixels)\n",
    "#s\n",
    "s = (well_h_pixels*p)**2\n",
    "y_offset = (2/16)\n",
    "x_offset = (2/24)\n",
    "fov = 250*10**(-6) * 1024 #height_\n",
    "s = (fov*p)**2\n",
    "    \n",
    "axis = create_plot()\n",
    "\n",
    "vectors = np.array(vectors, dtype=np.float32)\n",
    "if len(vectors[0]) < 3:\n",
    "    vectors = np.hstack((np.array(vectors, dtype=np.float32), np.zeros((len(vectors),1))))\n",
    "for vector in vectors:\n",
    "    x,y,_ = vector\n",
    "    axis.scatter(x,y, c=\"r\", s=s*100, marker=\",\")\n",
    "    \n",
    "plt.show()"
   ]
  },
  {
   "cell_type": "markdown",
   "id": "3484818d-6f9e-4512-af6d-0e830330758c",
   "metadata": {},
   "source": [
    "### Try 4: RANSAC Homography"
   ]
  },
  {
   "cell_type": "code",
   "execution_count": 5,
   "id": "61f1c4ed-cf78-4026-b832-7f5f597fc10f",
   "metadata": {
    "ExecuteTime": {
     "end_time": "2024-03-23T17:32:34.085439700Z",
     "start_time": "2024-03-23T17:31:55.763837100Z"
    },
    "tags": []
   },
   "outputs": [
    {
     "name": "stdout",
     "output_type": "stream",
     "text": [
      "search for root_dir and set working directory\n",
      "Working directory set to: /media/ibrahim/Extended Storage/cloud/Internship/bioquant/348_wellplate_automation\n",
      "1. Getting all four corner wells coordinates as vectors\n",
      "2. Computing coordinate space from well corners using Homography\n",
      "Learning the homography matrix using Levenberg-Marquardt to map from well plate row and column arrangement to xzy-stage coordinate space\n",
      "Saving all variables associated to the coordinate system.\n",
      "4.509090909166667\n",
      "20.29090909125\n",
      "4.509090909166667\n",
      "20.29090909125\n",
      "x and y step: 4.583333333333333 and 4.5625\n",
      "Ymin -39.0 and Ymax 34.0\n",
      "Xmin -50.0 and Xmax 60.0\n",
      "Well name 1-1 and its coordinate: [-47.67996    33.08609     0.9995798]\n",
      "Well name 1-2 and its coordinate: [-43.05035     33.10231      0.99915963]\n",
      "Well name 1-3 and its coordinate: [-38.420746   33.11853     0.9987394]\n",
      "Well name 1-4 and its coordinate: [-33.79114    33.13475     0.9983192]\n",
      "Well name 1-5 and its coordinate: [-29.161535    33.150967     0.99789906]\n",
      "Well name 1-6 and its coordinate: [-24.531929    33.167187     0.99747884]\n",
      "Well name 1-7 and its coordinate: [-19.902323    33.183407     0.99705863]\n",
      "Well name 1-8 and its coordinate: [-15.272717   33.199627    0.9966385]\n",
      "Well name 1-9 and its coordinate: [-10.643112    33.215847     0.99621826]\n",
      "Well name 1-10 and its coordinate: [-6.0135064  33.232067    0.99579805]\n",
      "Well name 1-11 and its coordinate: [-1.3839006 33.248283   0.9953779]\n",
      "Well name 1-12 and its coordinate: [ 3.2457051 33.264503   0.9949577]\n",
      "Well name 1-13 and its coordinate: [7.8753109e+00 3.3280724e+01 4.6221316e-03]\n",
      "Well name 1-14 and its coordinate: [1.2529876e+01 3.3296944e+01 4.2019375e-03]\n",
      "Well name 1-15 and its coordinate: [1.7184441e+01 3.3313164e+01 3.7817438e-03]\n",
      "Well name 1-16 and its coordinate: [2.1839006e+01 3.3329384e+01 3.3615502e-03]\n",
      "Well name 1-17 and its coordinate: [2.6493570e+01 3.3345600e+01 2.9413563e-03]\n",
      "Well name 1-18 and its coordinate: [3.1148136e+01 3.3361820e+01 2.5211626e-03]\n",
      "Well name 1-19 and its coordinate: [3.5802700e+01 3.3378040e+01 2.1009687e-03]\n",
      "Well name 1-20 and its coordinate: [4.0457268e+01 3.3394260e+01 1.6807751e-03]\n",
      "Well name 1-21 and its coordinate: [4.5111832e+01 3.3410480e+01 1.2605813e-03]\n",
      "Well name 1-22 and its coordinate: [4.9766396e+01 3.3426701e+01 8.4038754e-04]\n",
      "Well name 1-23 and its coordinate: [5.4420963e+01 3.3442917e+01 4.2019377e-04]\n",
      "Well name 1-24 and its coordinate: [ 5.9075527e+01  3.3459137e+01 -1.1102230e-16]\n",
      "Well name 2-1 and its coordinate: [-47.67996    28.308098    0.9995798]\n",
      "Well name 2-2 and its coordinate: [-43.05035     28.324318     0.99915963]\n",
      "Well name 2-3 and its coordinate: [-38.420746   28.340538    0.9987394]\n",
      "Well name 2-4 and its coordinate: [-33.79114    28.356758    0.9983192]\n",
      "Well name 2-5 and its coordinate: [-29.161535    28.372976     0.99789906]\n",
      "Well name 2-6 and its coordinate: [-24.531929    28.389196     0.99747884]\n",
      "Well name 2-7 and its coordinate: [-19.902323    28.405416     0.99705863]\n",
      "Well name 2-8 and its coordinate: [-15.272717   28.421635    0.9966385]\n",
      "Well name 2-9 and its coordinate: [-10.643112    28.437855     0.99621826]\n",
      "Well name 2-10 and its coordinate: [-6.0135064  28.454075    0.99579805]\n",
      "Well name 2-11 and its coordinate: [-1.3839006 28.470293   0.9953779]\n",
      "Well name 2-12 and its coordinate: [ 3.2457051 28.486513   0.9949577]\n",
      "Well name 2-13 and its coordinate: [7.8753109e+00 2.8478403e+01 4.6221316e-03]\n",
      "Well name 2-14 and its coordinate: [1.2529876e+01 2.8494623e+01 4.2019375e-03]\n",
      "Well name 2-15 and its coordinate: [1.7184441e+01 2.8510841e+01 3.7817438e-03]\n",
      "Well name 2-16 and its coordinate: [2.1839006e+01 2.8527061e+01 3.3615502e-03]\n",
      "Well name 2-17 and its coordinate: [2.6493570e+01 2.8543282e+01 2.9413563e-03]\n",
      "Well name 2-18 and its coordinate: [3.1148136e+01 2.8559500e+01 2.5211626e-03]\n",
      "Well name 2-19 and its coordinate: [3.5802700e+01 2.8575720e+01 2.1009687e-03]\n",
      "Well name 2-20 and its coordinate: [4.0457268e+01 2.8591940e+01 1.6807751e-03]\n",
      "Well name 2-21 and its coordinate: [4.5111832e+01 2.8608158e+01 1.2605813e-03]\n",
      "Well name 2-22 and its coordinate: [4.9766396e+01 2.8624378e+01 8.4038754e-04]\n",
      "Well name 2-23 and its coordinate: [5.4420963e+01 2.8640598e+01 4.2019377e-04]\n",
      "Well name 2-24 and its coordinate: [ 5.9075527e+01  2.8656818e+01 -1.1102230e-16]\n",
      "Well name 3-1 and its coordinate: [-47.67996    23.530107    0.9995798]\n",
      "Well name 3-2 and its coordinate: [-43.05035     23.546328     0.99915963]\n",
      "Well name 3-3 and its coordinate: [-38.420746   23.562546    0.9987394]\n",
      "Well name 3-4 and its coordinate: [-33.79114    23.578766    0.9983192]\n",
      "Well name 3-5 and its coordinate: [-29.161535    23.594986     0.99789906]\n",
      "Well name 3-6 and its coordinate: [-24.531929    23.611204     0.99747884]\n",
      "Well name 3-7 and its coordinate: [-19.902323    23.627424     0.99705863]\n",
      "Well name 3-8 and its coordinate: [-15.272717   23.643644    0.9966385]\n",
      "Well name 3-9 and its coordinate: [-10.643112    23.659863     0.99621826]\n",
      "Well name 3-10 and its coordinate: [-6.0135064  23.676083    0.99579805]\n",
      "Well name 3-11 and its coordinate: [-1.3839006 23.692303   0.9953779]\n",
      "Well name 3-12 and its coordinate: [ 3.2457051 23.70852    0.9949577]\n",
      "Well name 3-13 and its coordinate: [7.8753109e+00 2.3676083e+01 4.6221316e-03]\n",
      "Well name 3-14 and its coordinate: [1.2529876e+01 2.3692303e+01 4.2019375e-03]\n",
      "Well name 3-15 and its coordinate: [1.7184441e+01 2.3708521e+01 3.7817438e-03]\n",
      "Well name 3-16 and its coordinate: [2.1839006e+01 2.3724741e+01 3.3615502e-03]\n",
      "Well name 3-17 and its coordinate: [2.6493570e+01 2.3740961e+01 2.9413563e-03]\n",
      "Well name 3-18 and its coordinate: [3.1148136e+01 2.3757179e+01 2.5211626e-03]\n",
      "Well name 3-19 and its coordinate: [3.5802700e+01 2.3773399e+01 2.1009687e-03]\n",
      "Well name 3-20 and its coordinate: [4.0457268e+01 2.3789619e+01 1.6807751e-03]\n",
      "Well name 3-21 and its coordinate: [4.5111832e+01 2.3805838e+01 1.2605813e-03]\n",
      "Well name 3-22 and its coordinate: [4.9766396e+01 2.3822058e+01 8.4038754e-04]\n",
      "Well name 3-23 and its coordinate: [5.4420963e+01 2.3838278e+01 4.2019377e-04]\n",
      "Well name 3-24 and its coordinate: [ 5.9075527e+01  2.3854496e+01 -1.1102230e-16]\n",
      "Well name 4-1 and its coordinate: [-47.67996    18.752117    0.9995798]\n",
      "Well name 4-2 and its coordinate: [-43.05035     18.768335     0.99915963]\n",
      "Well name 4-3 and its coordinate: [-38.420746   18.784555    0.9987394]\n",
      "Well name 4-4 and its coordinate: [-33.79114    18.800776    0.9983192]\n",
      "Well name 4-5 and its coordinate: [-29.161535    18.816994     0.99789906]\n",
      "Well name 4-6 and its coordinate: [-24.531929    18.833214     0.99747884]\n",
      "Well name 4-7 and its coordinate: [-19.902323    18.849434     0.99705863]\n",
      "Well name 4-8 and its coordinate: [-15.272717   18.865652    0.9966385]\n",
      "Well name 4-9 and its coordinate: [-10.643112    18.881872     0.99621826]\n",
      "Well name 4-10 and its coordinate: [-6.0135064  18.898092    0.99579805]\n",
      "Well name 4-11 and its coordinate: [-1.3839006 18.91431    0.9953779]\n",
      "Well name 4-12 and its coordinate: [ 3.2457051 18.93053    0.9949577]\n",
      "Well name 4-13 and its coordinate: [7.8753109e+00 1.8873762e+01 4.6221316e-03]\n",
      "Well name 4-14 and its coordinate: [1.2529876e+01 1.8889982e+01 4.2019375e-03]\n",
      "Well name 4-15 and its coordinate: [1.7184441e+01 1.8906200e+01 3.7817438e-03]\n",
      "Well name 4-16 and its coordinate: [2.1839006e+01 1.8922421e+01 3.3615502e-03]\n",
      "Well name 4-17 and its coordinate: [2.6493570e+01 1.8938641e+01 2.9413563e-03]\n",
      "Well name 4-18 and its coordinate: [3.1148136e+01 1.8954859e+01 2.5211626e-03]\n",
      "Well name 4-19 and its coordinate: [3.5802700e+01 1.8971079e+01 2.1009687e-03]\n",
      "Well name 4-20 and its coordinate: [4.0457268e+01 1.8987299e+01 1.6807751e-03]\n",
      "Well name 4-21 and its coordinate: [4.5111832e+01 1.9003517e+01 1.2605813e-03]\n",
      "Well name 4-22 and its coordinate: [4.9766396e+01 1.9019737e+01 8.4038754e-04]\n",
      "Well name 4-23 and its coordinate: [5.4420963e+01 1.9035957e+01 4.2019377e-04]\n",
      "Well name 4-24 and its coordinate: [ 5.9075527e+01  1.9052176e+01 -1.1102230e-16]\n",
      "Well name 5-1 and its coordinate: [-47.67996    13.974125    0.9995798]\n",
      "Well name 5-2 and its coordinate: [-43.05035     13.990344     0.99915963]\n",
      "Well name 5-3 and its coordinate: [-38.420746   14.006564    0.9987394]\n",
      "Well name 5-4 and its coordinate: [-33.79114    14.022783    0.9983192]\n",
      "Well name 5-5 and its coordinate: [-29.161535    14.039002     0.99789906]\n",
      "Well name 5-6 and its coordinate: [-24.531929    14.0552225    0.99747884]\n",
      "Well name 5-7 and its coordinate: [-19.902323    14.071442     0.99705863]\n",
      "Well name 5-8 and its coordinate: [-15.272717   14.087662    0.9966385]\n",
      "Well name 5-9 and its coordinate: [-10.643112    14.103881     0.99621826]\n",
      "Well name 5-10 and its coordinate: [-6.0135064  14.1201      0.99579805]\n",
      "Well name 5-11 and its coordinate: [-1.3839006 14.13632    0.9953779]\n",
      "Well name 5-12 and its coordinate: [ 3.2457051 14.152539   0.9949577]\n",
      "Well name 5-13 and its coordinate: [7.8753109e+00 1.4071442e+01 4.6221316e-03]\n",
      "Well name 5-14 and its coordinate: [1.2529876e+01 1.4087661e+01 4.2019375e-03]\n",
      "Well name 5-15 and its coordinate: [1.7184441e+01 1.4103881e+01 3.7817438e-03]\n",
      "Well name 5-16 and its coordinate: [2.1839006e+01 1.4120100e+01 3.3615502e-03]\n",
      "Well name 5-17 and its coordinate: [2.6493570e+01 1.4136319e+01 2.9413563e-03]\n",
      "Well name 5-18 and its coordinate: [3.1148136e+01 1.4152539e+01 2.5211626e-03]\n",
      "Well name 5-19 and its coordinate: [3.5802700e+01 1.4168758e+01 2.1009687e-03]\n",
      "Well name 5-20 and its coordinate: [4.0457268e+01 1.4184978e+01 1.6807751e-03]\n",
      "Well name 5-21 and its coordinate: [4.5111832e+01 1.4201198e+01 1.2605813e-03]\n",
      "Well name 5-22 and its coordinate: [4.9766396e+01 1.4217417e+01 8.4038754e-04]\n",
      "Well name 5-23 and its coordinate: [5.4420963e+01 1.4233636e+01 4.2019377e-04]\n",
      "Well name 5-24 and its coordinate: [ 5.9075527e+01  1.4249856e+01 -1.1102230e-16]\n",
      "Well name 6-1 and its coordinate: [-47.67996     9.196134    0.9995798]\n",
      "Well name 6-2 and its coordinate: [-43.05035      9.212353     0.99915963]\n",
      "Well name 6-3 and its coordinate: [-38.420746    9.228573    0.9987394]\n",
      "Well name 6-4 and its coordinate: [-33.79114     9.244792    0.9983192]\n",
      "Well name 6-5 and its coordinate: [-29.161535     9.261012     0.99789906]\n",
      "Well name 6-6 and its coordinate: [-24.531929     9.277231     0.99747884]\n",
      "Well name 6-7 and its coordinate: [-19.902323     9.29345      0.99705863]\n",
      "Well name 6-8 and its coordinate: [-15.272717    9.30967     0.9966385]\n",
      "Well name 6-9 and its coordinate: [-10.643112     9.32589      0.99621826]\n",
      "Well name 6-10 and its coordinate: [-6.0135064   9.342109    0.99579805]\n",
      "Well name 6-11 and its coordinate: [-1.3839006  9.358329   0.9953779]\n",
      "Well name 6-12 and its coordinate: [3.2457051 9.374548  0.9949577]\n",
      "Well name 6-13 and its coordinate: [7.8753109e+00 9.2691212e+00 4.6221316e-03]\n",
      "Well name 6-14 and its coordinate: [1.2529876e+01 9.2853403e+00 4.2019375e-03]\n",
      "Well name 6-15 and its coordinate: [1.7184441e+01 9.3015594e+00 3.7817438e-03]\n",
      "Well name 6-16 and its coordinate: [2.1839006e+01 9.3177795e+00 3.3615502e-03]\n",
      "Well name 6-17 and its coordinate: [2.6493570e+01 9.3339987e+00 2.9413563e-03]\n",
      "Well name 6-18 and its coordinate: [3.1148136e+01 9.3502178e+00 2.5211626e-03]\n",
      "Well name 6-19 and its coordinate: [3.5802700e+01 9.3664379e+00 2.1009687e-03]\n",
      "Well name 6-20 and its coordinate: [4.0457268e+01 9.3826571e+00 1.6807751e-03]\n",
      "Well name 6-21 and its coordinate: [4.5111832e+01 9.3988771e+00 1.2605813e-03]\n",
      "Well name 6-22 and its coordinate: [4.9766396e+01 9.4150963e+00 8.4038754e-04]\n",
      "Well name 6-23 and its coordinate: [5.4420963e+01 9.4313154e+00 4.2019377e-04]\n",
      "Well name 6-24 and its coordinate: [ 5.9075527e+01  9.4475355e+00 -1.1102230e-16]\n",
      "Well name 7-1 and its coordinate: [-47.67996     4.4181423   0.9995798]\n",
      "Well name 7-2 and its coordinate: [-43.05035      4.434362     0.99915963]\n",
      "Well name 7-3 and its coordinate: [-38.420746    4.4505816   0.9987394]\n",
      "Well name 7-4 and its coordinate: [-33.79114     4.4668007   0.9983192]\n",
      "Well name 7-5 and its coordinate: [-29.161535     4.4830203    0.99789906]\n",
      "Well name 7-6 and its coordinate: [-24.531929     4.49924      0.99747884]\n",
      "Well name 7-7 and its coordinate: [-19.902323     4.5154595    0.99705863]\n",
      "Well name 7-8 and its coordinate: [-15.272717    4.5316787   0.9966385]\n",
      "Well name 7-9 and its coordinate: [-10.643112     4.5478983    0.99621826]\n",
      "Well name 7-10 and its coordinate: [-6.0135064   4.564118    0.99579805]\n",
      "Well name 7-11 and its coordinate: [-1.3839006  4.580337   0.9953779]\n",
      "Well name 7-12 and its coordinate: [3.2457051 4.5965567 0.9949577]\n",
      "Well name 7-13 and its coordinate: [7.8753109e+00 4.4668002e+00 4.6221316e-03]\n",
      "Well name 7-14 and its coordinate: [1.2529876e+01 4.4830198e+00 4.2019375e-03]\n",
      "Well name 7-15 and its coordinate: [1.7184441e+01 4.4992394e+00 3.7817438e-03]\n",
      "Well name 7-16 and its coordinate: [2.1839006e+01 4.5154586e+00 3.3615502e-03]\n",
      "Well name 7-17 and its coordinate: [2.6493570e+01 4.5316782e+00 2.9413563e-03]\n",
      "Well name 7-18 and its coordinate: [3.1148136e+01 4.5478978e+00 2.5211626e-03]\n",
      "Well name 7-19 and its coordinate: [3.5802700e+01 4.5641170e+00 2.1009687e-03]\n",
      "Well name 7-20 and its coordinate: [4.0457268e+01 4.5803366e+00 1.6807751e-03]\n",
      "Well name 7-21 and its coordinate: [4.5111832e+01 4.5965562e+00 1.2605813e-03]\n",
      "Well name 7-22 and its coordinate: [4.9766396e+01 4.6127758e+00 8.4038754e-04]\n",
      "Well name 7-23 and its coordinate: [5.4420963e+01 4.6289949e+00 4.2019377e-04]\n",
      "Well name 7-24 and its coordinate: [ 5.9075527e+01  4.6452146e+00 -1.1102230e-16]\n",
      "Well name 8-1 and its coordinate: [-47.67996     -0.35984883   0.9995798 ]\n",
      "Well name 8-2 and its coordinate: [-43.05035     -0.34362936   0.99915963]\n",
      "Well name 8-3 and its coordinate: [-38.420746    -0.32740986   0.9987394 ]\n",
      "Well name 8-4 and its coordinate: [-33.79114    -0.3111904   0.9983192]\n",
      "Well name 8-5 and its coordinate: [-29.161535    -0.29497093   0.99789906]\n",
      "Well name 8-6 and its coordinate: [-24.531929    -0.27875143   0.99747884]\n",
      "Well name 8-7 and its coordinate: [-19.902323    -0.26253197   0.99705863]\n",
      "Well name 8-8 and its coordinate: [-15.272717    -0.24631248   0.9966385 ]\n",
      "Well name 8-9 and its coordinate: [-10.643112    -0.230093     0.99621826]\n",
      "Well name 8-10 and its coordinate: [-6.0135064  -0.21387352  0.99579805]\n",
      "Well name 8-11 and its coordinate: [-1.3839006  -0.19765405  0.9953779 ]\n",
      "Well name 8-12 and its coordinate: [ 3.2457051  -0.18143457  0.9949577 ]\n",
      "Well name 8-13 and its coordinate: [ 7.8753109e+00 -3.3552027e-01  4.6221316e-03]\n",
      "Well name 8-14 and its coordinate: [ 1.2529876e+01 -3.1930080e-01  4.2019375e-03]\n",
      "Well name 8-15 and its coordinate: [ 1.7184441e+01 -3.0308133e-01  3.7817438e-03]\n",
      "Well name 8-16 and its coordinate: [ 2.1839006e+01 -2.8686184e-01  3.3615502e-03]\n",
      "Well name 8-17 and its coordinate: [ 2.6493570e+01 -2.7064237e-01  2.9413563e-03]\n",
      "Well name 8-18 and its coordinate: [ 3.1148136e+01 -2.5442290e-01  2.5211626e-03]\n",
      "Well name 8-19 and its coordinate: [ 3.5802700e+01 -2.3820341e-01  2.1009687e-03]\n",
      "Well name 8-20 and its coordinate: [ 4.0457268e+01 -2.2198394e-01  1.6807751e-03]\n",
      "Well name 8-21 and its coordinate: [ 4.5111832e+01 -2.0576446e-01  1.2605813e-03]\n",
      "Well name 8-22 and its coordinate: [ 4.9766396e+01 -1.8954498e-01  8.4038754e-04]\n",
      "Well name 8-23 and its coordinate: [ 5.4420963e+01 -1.7332549e-01  4.2019377e-04]\n",
      "Well name 8-24 and its coordinate: [ 5.9075527e+01 -1.5710601e-01 -1.1102230e-16]\n",
      "Well name 9-1 and its coordinate: [-4.7679958e+01 -5.1378403e+00  9.6644564e-03]\n",
      "Well name 9-2 and its coordinate: [-4.3025391e+01 -5.1216207e+00  9.2442632e-03]\n",
      "Well name 9-3 and its coordinate: [-3.8370827e+01 -5.1054010e+00  8.8240691e-03]\n",
      "Well name 9-4 and its coordinate: [-3.3716263e+01 -5.0891819e+00  8.4038749e-03]\n",
      "Well name 9-5 and its coordinate: [-2.9061697e+01 -5.0729623e+00  7.9836817e-03]\n",
      "Well name 9-6 and its coordinate: [-2.4407131e+01 -5.0567427e+00  7.5634876e-03]\n",
      "Well name 9-7 and its coordinate: [-1.9752567e+01 -5.0405231e+00  7.1432940e-03]\n",
      "Well name 9-8 and its coordinate: [-1.50980015e+01 -5.02430391e+00  6.72310032e-03]\n",
      "Well name 9-9 and its coordinate: [-1.0443437e+01 -5.0080843e+00  6.3029062e-03]\n",
      "Well name 9-10 and its coordinate: [-5.7888713  -4.9918647   0.00588271]\n",
      "Well name 9-11 and its coordinate: [-1.1343062  -4.9756455   0.00546252]\n",
      "Well name 9-12 and its coordinate: [ 3.520259   -4.959426    0.00504233]\n",
      "Well name 9-13 and its coordinate: [ 8.1748238e+00 -4.9432063e+00  4.6221316e-03]\n",
      "Well name 9-14 and its coordinate: [ 1.2829390e+01 -4.9269867e+00  4.2019375e-03]\n",
      "Well name 9-15 and its coordinate: [ 1.7483953e+01 -4.9107676e+00  3.7817438e-03]\n",
      "Well name 9-16 and its coordinate: [ 2.2138519e+01 -4.8945479e+00  3.3615502e-03]\n",
      "Well name 9-17 and its coordinate: [ 2.6793085e+01 -4.8783283e+00  2.9413563e-03]\n",
      "Well name 9-18 and its coordinate: [ 3.1447649e+01 -4.8621092e+00  2.5211626e-03]\n",
      "Well name 9-19 and its coordinate: [ 3.6102215e+01 -4.8458896e+00  2.1009687e-03]\n",
      "Well name 9-20 and its coordinate: [ 4.0756779e+01 -4.8296700e+00  1.6807751e-03]\n",
      "Well name 9-21 and its coordinate: [ 4.5411346e+01 -4.8134503e+00  1.2605813e-03]\n",
      "Well name 9-22 and its coordinate: [ 5.0065910e+01 -4.7972312e+00  8.4038754e-04]\n",
      "Well name 9-23 and its coordinate: [ 5.4720474e+01 -4.7810116e+00  4.2019377e-04]\n",
      "Well name 9-24 and its coordinate: [ 5.9375042e+01 -4.7647920e+00 -1.1102230e-16]\n",
      "Well name 10-1 and its coordinate: [-4.767996e+01 -9.940161e+00  9.664456e-03]\n",
      "Well name 10-2 and its coordinate: [-4.302539e+01 -9.923942e+00  9.244263e-03]\n",
      "Well name 10-3 and its coordinate: [-3.8370827e+01 -9.9077215e+00  8.8240691e-03]\n",
      "Well name 10-4 and its coordinate: [-3.3716263e+01 -9.8915024e+00  8.4038749e-03]\n",
      "Well name 10-5 and its coordinate: [-2.9061697e+01 -9.8752832e+00  7.9836817e-03]\n",
      "Well name 10-6 and its coordinate: [-2.4407131e+01 -9.8590631e+00  7.5634876e-03]\n",
      "Well name 10-7 and its coordinate: [-1.9752567e+01 -9.8428440e+00  7.1432940e-03]\n",
      "Well name 10-8 and its coordinate: [-1.50980015e+01 -9.82662392e+00  6.72310032e-03]\n",
      "Well name 10-9 and its coordinate: [-1.0443437e+01 -9.8104048e+00  6.3029062e-03]\n",
      "Well name 10-10 and its coordinate: [-5.7888713e+00 -9.7941856e+00  5.8827125e-03]\n",
      "Well name 10-11 and its coordinate: [-1.1343062e+00 -9.7779655e+00  5.4625189e-03]\n",
      "Well name 10-12 and its coordinate: [ 3.5202589e+00 -9.7617464e+00  5.0423252e-03]\n",
      "Well name 10-13 and its coordinate: [ 8.1748238e+00 -9.7455273e+00  4.6221316e-03]\n",
      "Well name 10-14 and its coordinate: [ 1.2829390e+01 -9.7293072e+00  4.2019375e-03]\n",
      "Well name 10-15 and its coordinate: [ 1.7483953e+01 -9.7130880e+00  3.7817438e-03]\n",
      "Well name 10-16 and its coordinate: [ 2.2138519e+01 -9.6968689e+00  3.3615502e-03]\n",
      "Well name 10-17 and its coordinate: [ 2.6793085e+01 -9.6806488e+00  2.9413563e-03]\n",
      "Well name 10-18 and its coordinate: [ 3.1447649e+01 -9.6644297e+00  2.5211626e-03]\n",
      "Well name 10-19 and its coordinate: [ 3.6102215e+01 -9.6482105e+00  2.1009687e-03]\n",
      "Well name 10-20 and its coordinate: [ 4.0756779e+01 -9.6319904e+00  1.6807751e-03]\n",
      "Well name 10-21 and its coordinate: [ 4.5411346e+01 -9.6157713e+00  1.2605813e-03]\n",
      "Well name 10-22 and its coordinate: [ 5.0065910e+01 -9.5995512e+00  8.4038754e-04]\n",
      "Well name 10-23 and its coordinate: [ 5.4720474e+01 -9.5833321e+00  4.2019377e-04]\n",
      "Well name 10-24 and its coordinate: [ 5.9375042e+01 -9.5671129e+00 -1.1102230e-16]\n",
      "Well name 11-1 and its coordinate: [-4.7679958e+01 -1.4742481e+01  9.6644564e-03]\n",
      "Well name 11-2 and its coordinate: [-4.3025391e+01 -1.4726262e+01  9.2442632e-03]\n",
      "Well name 11-3 and its coordinate: [-3.8370827e+01 -1.4710042e+01  8.8240691e-03]\n",
      "Well name 11-4 and its coordinate: [-3.3716263e+01 -1.4693823e+01  8.4038749e-03]\n",
      "Well name 11-5 and its coordinate: [-2.9061697e+01 -1.4677604e+01  7.9836817e-03]\n",
      "Well name 11-6 and its coordinate: [-2.4407131e+01 -1.4661384e+01  7.5634876e-03]\n",
      "Well name 11-7 and its coordinate: [-1.97525673e+01 -1.46451645e+01  7.14329397e-03]\n",
      "Well name 11-8 and its coordinate: [-1.50980015e+01 -1.46289454e+01  6.72310032e-03]\n",
      "Well name 11-9 and its coordinate: [-1.0443437e+01 -1.4612725e+01  6.3029062e-03]\n",
      "Well name 11-10 and its coordinate: [-5.7888713e+00 -1.4596506e+01  5.8827125e-03]\n",
      "Well name 11-11 and its coordinate: [-1.1343062e+00 -1.4580286e+01  5.4625189e-03]\n",
      "Well name 11-12 and its coordinate: [ 3.5202589e+00 -1.4564067e+01  5.0423252e-03]\n",
      "Well name 11-13 and its coordinate: [ 8.1748238e+00 -1.4547848e+01  4.6221316e-03]\n",
      "Well name 11-14 and its coordinate: [ 1.2829390e+01 -1.4531628e+01  4.2019375e-03]\n",
      "Well name 11-15 and its coordinate: [ 1.74839535e+01 -1.45154085e+01  3.78174381e-03]\n",
      "Well name 11-16 and its coordinate: [ 2.2138519e+01 -1.4499189e+01  3.3615502e-03]\n",
      "Well name 11-17 and its coordinate: [ 2.6793085e+01 -1.4482969e+01  2.9413563e-03]\n",
      "Well name 11-18 and its coordinate: [ 3.1447649e+01 -1.4466750e+01  2.5211626e-03]\n",
      "Well name 11-19 and its coordinate: [ 3.6102215e+01 -1.4450531e+01  2.1009687e-03]\n",
      "Well name 11-20 and its coordinate: [ 4.0756779e+01 -1.4434311e+01  1.6807751e-03]\n",
      "Well name 11-21 and its coordinate: [ 4.5411346e+01 -1.4418092e+01  1.2605813e-03]\n",
      "Well name 11-22 and its coordinate: [ 5.0065910e+01 -1.4401873e+01  8.4038754e-04]\n",
      "Well name 11-23 and its coordinate: [ 5.4720474e+01 -1.4385653e+01  4.2019377e-04]\n",
      "Well name 11-24 and its coordinate: [ 5.9375042e+01 -1.4369433e+01 -1.1102230e-16]\n",
      "Well name 12-1 and its coordinate: [-4.7679958e+01 -1.9544802e+01  9.6644564e-03]\n",
      "Well name 12-2 and its coordinate: [-4.3025391e+01 -1.9528582e+01  9.2442632e-03]\n",
      "Well name 12-3 and its coordinate: [-3.8370827e+01 -1.9512363e+01  8.8240691e-03]\n",
      "Well name 12-4 and its coordinate: [-3.3716263e+01 -1.9496143e+01  8.4038749e-03]\n",
      "Well name 12-5 and its coordinate: [-2.9061697e+01 -1.9479923e+01  7.9836817e-03]\n",
      "Well name 12-6 and its coordinate: [-2.4407131e+01 -1.9463705e+01  7.5634876e-03]\n",
      "Well name 12-7 and its coordinate: [-1.9752567e+01 -1.9447485e+01  7.1432940e-03]\n",
      "Well name 12-8 and its coordinate: [-1.50980015e+01 -1.94312649e+01  6.72310032e-03]\n",
      "Well name 12-9 and its coordinate: [-1.0443437e+01 -1.9415047e+01  6.3029062e-03]\n",
      "Well name 12-10 and its coordinate: [-5.7888713e+00 -1.9398827e+01  5.8827125e-03]\n",
      "Well name 12-11 and its coordinate: [-1.1343062e+00 -1.9382607e+01  5.4625189e-03]\n",
      "Well name 12-12 and its coordinate: [ 3.5202589e+00 -1.9366388e+01  5.0423252e-03]\n",
      "Well name 12-13 and its coordinate: [ 8.1748238e+00 -1.9350168e+01  4.6221316e-03]\n",
      "Well name 12-14 and its coordinate: [ 1.2829390e+01 -1.9333948e+01  4.2019375e-03]\n",
      "Well name 12-15 and its coordinate: [ 1.7483953e+01 -1.9317730e+01  3.7817438e-03]\n",
      "Well name 12-16 and its coordinate: [ 2.2138519e+01 -1.9301510e+01  3.3615502e-03]\n",
      "Well name 12-17 and its coordinate: [ 2.6793085e+01 -1.9285290e+01  2.9413563e-03]\n",
      "Well name 12-18 and its coordinate: [ 3.1447649e+01 -1.9269072e+01  2.5211626e-03]\n",
      "Well name 12-19 and its coordinate: [ 3.6102215e+01 -1.9252851e+01  2.1009687e-03]\n",
      "Well name 12-20 and its coordinate: [ 4.0756779e+01 -1.9236631e+01  1.6807751e-03]\n",
      "Well name 12-21 and its coordinate: [ 4.5411346e+01 -1.9220413e+01  1.2605813e-03]\n",
      "Well name 12-22 and its coordinate: [ 5.0065910e+01 -1.9204193e+01  8.4038754e-04]\n",
      "Well name 12-23 and its coordinate: [ 5.4720474e+01 -1.9187973e+01  4.2019377e-04]\n",
      "Well name 12-24 and its coordinate: [ 59.375042 -19.171753   0.      ]\n",
      "Well name 13-1 and its coordinate: [-4.7679958e+01 -2.4347122e+01  9.6644564e-03]\n",
      "Well name 13-2 and its coordinate: [-4.3025391e+01 -2.4330902e+01  9.2442632e-03]\n",
      "Well name 13-3 and its coordinate: [-3.8370827e+01 -2.4314684e+01  8.8240691e-03]\n",
      "Well name 13-4 and its coordinate: [-3.3716263e+01 -2.4298464e+01  8.4038749e-03]\n",
      "Well name 13-5 and its coordinate: [-2.9061697e+01 -2.4282244e+01  7.9836817e-03]\n",
      "Well name 13-6 and its coordinate: [-2.4407131e+01 -2.4266026e+01  7.5634876e-03]\n",
      "Well name 13-7 and its coordinate: [-1.9752567e+01 -2.4249805e+01  7.1432940e-03]\n",
      "Well name 13-8 and its coordinate: [-1.50980015e+01 -2.42335854e+01  6.72310032e-03]\n",
      "Well name 13-9 and its coordinate: [-1.0443437e+01 -2.4217367e+01  6.3029062e-03]\n",
      "Well name 13-10 and its coordinate: [-5.7888713e+00 -2.4201147e+01  5.8827125e-03]\n",
      "Well name 13-11 and its coordinate: [-1.1343062e+00 -2.4184927e+01  5.4625189e-03]\n",
      "Well name 13-12 and its coordinate: [ 3.5202589e+00 -2.4168709e+01  5.0423252e-03]\n",
      "Well name 13-13 and its coordinate: [ 8.1748238e+00 -2.4152489e+01  4.6221316e-03]\n",
      "Well name 13-14 and its coordinate: [ 1.2829390e+01 -2.4136269e+01  4.2019375e-03]\n",
      "Well name 13-15 and its coordinate: [ 1.7483953e+01 -2.4120050e+01  3.7817438e-03]\n",
      "Well name 13-16 and its coordinate: [ 2.2138519e+01 -2.4103830e+01  3.3615502e-03]\n",
      "Well name 13-17 and its coordinate: [ 2.6793085e+01 -2.4087610e+01  2.9413563e-03]\n",
      "Well name 13-18 and its coordinate: [ 3.1447649e+01 -2.4071392e+01  2.5211626e-03]\n",
      "Well name 13-19 and its coordinate: [ 3.6102215e+01 -2.4055172e+01  2.1009687e-03]\n",
      "Well name 13-20 and its coordinate: [ 4.0756779e+01 -2.4038952e+01  1.6807751e-03]\n",
      "Well name 13-21 and its coordinate: [ 4.5411346e+01 -2.4022734e+01  1.2605813e-03]\n",
      "Well name 13-22 and its coordinate: [ 5.0065910e+01 -2.4006514e+01  8.4038754e-04]\n",
      "Well name 13-23 and its coordinate: [ 5.4720474e+01 -2.3990294e+01  4.2019377e-04]\n",
      "Well name 13-24 and its coordinate: [ 59.375042 -23.974075   0.      ]\n",
      "Well name 14-1 and its coordinate: [-4.7679958e+01 -2.9149443e+01  9.6644564e-03]\n",
      "Well name 14-2 and its coordinate: [-4.3025391e+01 -2.9133224e+01  9.2442632e-03]\n",
      "Well name 14-3 and its coordinate: [-3.8370827e+01 -2.9117004e+01  8.8240691e-03]\n",
      "Well name 14-4 and its coordinate: [-3.3716263e+01 -2.9100784e+01  8.4038749e-03]\n",
      "Well name 14-5 and its coordinate: [-2.9061697e+01 -2.9084564e+01  7.9836817e-03]\n",
      "Well name 14-6 and its coordinate: [-2.4407131e+01 -2.9068346e+01  7.5634876e-03]\n",
      "Well name 14-7 and its coordinate: [-1.9752567e+01 -2.9052126e+01  7.1432940e-03]\n",
      "Well name 14-8 and its coordinate: [-1.50980015e+01 -2.90359058e+01  6.72310032e-03]\n",
      "Well name 14-9 and its coordinate: [-1.0443437e+01 -2.9019688e+01  6.3029062e-03]\n",
      "Well name 14-10 and its coordinate: [-5.7888713e+00 -2.9003468e+01  5.8827125e-03]\n",
      "Well name 14-11 and its coordinate: [-1.1343062e+00 -2.8987247e+01  5.4625189e-03]\n",
      "Well name 14-12 and its coordinate: [ 3.5202589e+00 -2.8971029e+01  5.0423252e-03]\n",
      "Well name 14-13 and its coordinate: [ 8.1748238e+00 -2.8954809e+01  4.6221316e-03]\n",
      "Well name 14-14 and its coordinate: [ 1.2829390e+01 -2.8938589e+01  4.2019375e-03]\n",
      "Well name 14-15 and its coordinate: [ 1.7483953e+01 -2.8922371e+01  3.7817438e-03]\n",
      "Well name 14-16 and its coordinate: [ 2.2138519e+01 -2.8906151e+01  3.3615502e-03]\n",
      "Well name 14-17 and its coordinate: [ 2.6793085e+01 -2.8889931e+01  2.9413563e-03]\n",
      "Well name 14-18 and its coordinate: [ 3.1447649e+01 -2.8873713e+01  2.5211626e-03]\n",
      "Well name 14-19 and its coordinate: [ 3.6102215e+01 -2.8857492e+01  2.1009687e-03]\n",
      "Well name 14-20 and its coordinate: [ 4.0756779e+01 -2.8841272e+01  1.6807751e-03]\n",
      "Well name 14-21 and its coordinate: [ 4.5411346e+01 -2.8825054e+01  1.2605813e-03]\n",
      "Well name 14-22 and its coordinate: [ 5.0065910e+01 -2.8808834e+01  8.4038754e-04]\n",
      "Well name 14-23 and its coordinate: [ 5.4720474e+01 -2.8792614e+01  4.2019377e-04]\n",
      "Well name 14-24 and its coordinate: [ 59.375042 -28.776396   0.      ]\n",
      "Well name 15-1 and its coordinate: [-4.7679958e+01 -3.3951763e+01  9.6644564e-03]\n",
      "Well name 15-2 and its coordinate: [-4.3025391e+01 -3.3935543e+01  9.2442632e-03]\n",
      "Well name 15-3 and its coordinate: [-3.8370827e+01 -3.3919323e+01  8.8240691e-03]\n",
      "Well name 15-4 and its coordinate: [-3.3716263e+01 -3.3903107e+01  8.4038749e-03]\n",
      "Well name 15-5 and its coordinate: [-2.9061697e+01 -3.3886887e+01  7.9836817e-03]\n",
      "Well name 15-6 and its coordinate: [-2.4407131e+01 -3.3870667e+01  7.5634876e-03]\n",
      "Well name 15-7 and its coordinate: [-1.9752567e+01 -3.3854446e+01  7.1432940e-03]\n",
      "Well name 15-8 and its coordinate: [-1.50980015e+01 -3.38382263e+01  6.72310032e-03]\n",
      "Well name 15-9 and its coordinate: [-1.0443437e+01 -3.3822006e+01  6.3029062e-03]\n",
      "Well name 15-10 and its coordinate: [-5.7888713e+00 -3.3805790e+01  5.8827125e-03]\n",
      "Well name 15-11 and its coordinate: [-1.1343062e+00 -3.3789570e+01  5.4625189e-03]\n",
      "Well name 15-12 and its coordinate: [ 3.5202589e+00 -3.3773350e+01  5.0423252e-03]\n",
      "Well name 15-13 and its coordinate: [ 8.1748238e+00 -3.3757130e+01  4.6221316e-03]\n",
      "Well name 15-14 and its coordinate: [ 1.2829390e+01 -3.3740910e+01  4.2019375e-03]\n",
      "Well name 15-15 and its coordinate: [ 1.7483953e+01 -3.3724689e+01  3.7817438e-03]\n",
      "Well name 15-16 and its coordinate: [ 2.2138519e+01 -3.3708473e+01  3.3615502e-03]\n",
      "Well name 15-17 and its coordinate: [ 2.6793085e+01 -3.3692253e+01  2.9413563e-03]\n",
      "Well name 15-18 and its coordinate: [ 3.1447649e+01 -3.3676033e+01  2.5211626e-03]\n",
      "Well name 15-19 and its coordinate: [ 3.6102215e+01 -3.3659813e+01  2.1009687e-03]\n",
      "Well name 15-20 and its coordinate: [ 4.0756779e+01 -3.3643593e+01  1.6807751e-03]\n",
      "Well name 15-21 and its coordinate: [ 4.5411346e+01 -3.3627373e+01  1.2605813e-03]\n",
      "Well name 15-22 and its coordinate: [ 5.0065910e+01 -3.3611153e+01  8.4038754e-04]\n",
      "Well name 15-23 and its coordinate: [ 5.4720474e+01 -3.3594936e+01  4.2019377e-04]\n",
      "Well name 15-24 and its coordinate: [ 59.375042 -33.578716   0.      ]\n",
      "Well name 16-1 and its coordinate: [-4.7679958e+01 -3.8754086e+01  9.6644564e-03]\n",
      "Well name 16-2 and its coordinate: [-4.3025391e+01 -3.8737865e+01  9.2442632e-03]\n",
      "Well name 16-3 and its coordinate: [-3.8370827e+01 -3.8721645e+01  8.8240691e-03]\n",
      "Well name 16-4 and its coordinate: [-3.3716263e+01 -3.8705425e+01  8.4038749e-03]\n",
      "Well name 16-5 and its coordinate: [-2.9061697e+01 -3.8689205e+01  7.9836817e-03]\n",
      "Well name 16-6 and its coordinate: [-2.4407131e+01 -3.8672985e+01  7.5634876e-03]\n",
      "Well name 16-7 and its coordinate: [-1.9752567e+01 -3.8656769e+01  7.1432940e-03]\n",
      "Well name 16-8 and its coordinate: [-1.50980015e+01 -3.86405487e+01  6.72310032e-03]\n",
      "Well name 16-9 and its coordinate: [-1.0443437e+01 -3.8624329e+01  6.3029062e-03]\n",
      "Well name 16-10 and its coordinate: [-5.7888713e+00 -3.8608109e+01  5.8827125e-03]\n",
      "Well name 16-11 and its coordinate: [-1.1343062e+00 -3.8591888e+01  5.4625189e-03]\n",
      "Well name 16-12 and its coordinate: [ 3.5202589e+00 -3.8575668e+01  5.0423252e-03]\n",
      "Well name 16-13 and its coordinate: [ 8.1748238e+00 -3.8559452e+01  4.6221316e-03]\n",
      "Well name 16-14 and its coordinate: [ 1.2829390e+01 -3.8543232e+01  4.2019375e-03]\n",
      "Well name 16-15 and its coordinate: [ 1.7483953e+01 -3.8527012e+01  3.7817438e-03]\n",
      "Well name 16-16 and its coordinate: [ 2.2138519e+01 -3.8510792e+01  3.3615502e-03]\n",
      "Well name 16-17 and its coordinate: [ 2.6793085e+01 -3.8494572e+01  2.9413563e-03]\n",
      "Well name 16-18 and its coordinate: [ 3.1447649e+01 -3.8478352e+01  2.5211626e-03]\n",
      "Well name 16-19 and its coordinate: [ 3.6102215e+01 -3.8462135e+01  2.1009687e-03]\n",
      "Well name 16-20 and its coordinate: [ 4.0756779e+01 -3.8445915e+01  1.6807751e-03]\n",
      "Well name 16-21 and its coordinate: [ 4.5411346e+01 -3.8429695e+01  1.2605813e-03]\n",
      "Well name 16-22 and its coordinate: [ 5.0065910e+01 -3.8413475e+01  8.4038754e-04]\n",
      "Well name 16-23 and its coordinate: [ 5.4720474e+01 -3.8397255e+01  4.2019377e-04]\n",
      "Well name 16-24 and its coordinate: [ 59.375042 -38.381035   0.      ]\n"
     ]
    }
   ],
   "source": [
    "import json\n",
    "from ProjectRoot import change_wd_to_project_root\n",
    "change_wd_to_project_root()\n",
    "from DragonFlyWellPlateAutomation.devices.wellplate import WellPlate as wp\n",
    "\n",
    "\n",
    "WellPlate = wp()\n",
    "WellPlate.well_plate_req_coords[\"Top right well\"] = WellPlate.vector_2_state_dict(tr)\n",
    "WellPlate.well_plate_req_coords[\"Top left well\"] = WellPlate.vector_2_state_dict(tl)\n",
    "WellPlate.well_plate_req_coords[\"Bottom left well\"] = WellPlate.vector_2_state_dict(bl)\n",
    "\n",
    "vectors, well_names, length, height, x_spacing = WellPlate.predict_well_coords(c_n, r_n, algorithm=\"Homography\", algorithm_H=\"Levenberg-Marquardt\", well_plate_req_coords=WellPlate.well_plate_req_coords\n",
    "                            )\n",
    "\n",
    "### Get normalized length and height of axis\n",
    "# Scaling factor of y and x \n",
    "transform = ((404.43636364-79.78181818)/72)\n",
    "well_h= 4.5\n",
    "print(transform)\n",
    "#Pixels\n",
    "well_h_pixels = (well_h * transform) \n",
    "#Points\n",
    "p = 72/100\n",
    "print(well_h_pixels)\n",
    "#s\n",
    "s = (well_h_pixels*p)**2\n",
    "y_offset = (2/16)\n",
    "x_offset = (2/24)\n",
    "fov = 250*10**(-6) * 1024 #height\n",
    "s = (fov*p)**2\n",
    "    \n",
    "axis = create_plot()\n",
    "# [ 3.2457051  -0.18143457  0.9949577 ]\n",
    "vectors = np.array(vectors, dtype=np.float32)\n",
    "if len(vectors[0]) < 3:\n",
    "    vectors = np.hstack((np.array(vectors, dtype=np.float32), np.zeros((len(vectors),1))))\n",
    "for vector, wellname in zip(vectors,well_names):\n",
    "    print(\"Well name {} and its coordinate: {}\".format(wellname, vector))\n",
    "    x,y,_ = vector\n",
    "    axis.scatter(x,y, c=\"r\", s=s*100, marker=\",\")\n",
    "    axis.text(x, y, wellname, ha='center', va='bottom',fontsize=\"xx-small\")\n",
    "\n",
    "plt.tight_layout()\n",
    "plt.show()"
   ]
  },
  {
   "cell_type": "markdown",
   "id": "b2b29961-3608-4f8e-aaaf-e1b0df311715",
   "metadata": {},
   "source": [
    "### Try 5: Eigendecomposition Homography"
   ]
  },
  {
   "cell_type": "code",
   "execution_count": 5,
   "id": "fdba2f6b-0091-496d-a1f9-9da0822e18c3",
   "metadata": {
    "ExecuteTime": {
     "end_time": "2024-03-23T17:26:39.733867800Z",
     "start_time": "2024-03-23T17:26:31.432742200Z"
    },
    "tags": []
   },
   "outputs": [
    {
     "name": "stdout",
     "output_type": "stream",
     "text": [
      "1. Getting all four corner wells coordinates as vectors\n",
      "2. Computing coordinate space from well corners using Homography\n",
      "Learning the homography matrix using Eigendecomposition to map from well plate row and column arrangement to xzy-stage coordinate space\n",
      "Saving all variables associated to the coordinate system.\n",
      "4.509090909166667\n",
      "20.29090909125\n",
      "4.509090909166667\n",
      "20.29090909125\n",
      "x and y step: 4.583333333333333 and 4.5\n",
      "Ymin -40.0 and Ymax 32.0\n",
      "Xmin -50.0 and Xmax 60.0\n"
     ]
    }
   ],
   "source": [
    "vectors, well_names, length, height, x_spacing = WellPlate.predict_well_coords(c_n, r_n, algorithm=\"Homography\", algorithm_H=\"Eigendecomposition\", well_plate_req_coords=WellPlate.well_plate_req_coords\n",
    "                            )\n",
    "\n",
    "### Get normalized length and height of axis\n",
    "# Scaling factor of y and x \n",
    "transform = ((404.43636364-79.78181818)/72)\n",
    "well_h= 4.5\n",
    "print(transform)\n",
    "#Pixels\n",
    "well_h_pixels = (well_h * transform) \n",
    "#Points\n",
    "p = 72/100\n",
    "print(well_h_pixels)\n",
    "#s\n",
    "s = (well_h_pixels*p)**2\n",
    "y_offset = (2/16)\n",
    "x_offset = (2/24)\n",
    "fov = 250*10**(-6) * 1024 #height\n",
    "s = (fov*p)**2\n",
    "    \n",
    "axis = create_plot()\n",
    "\n",
    "vectors = np.array(vectors, dtype=np.float32)\n",
    "if len(vectors[0]) < 3:\n",
    "    vectors = np.hstack((np.array(vectors, dtype=np.float32), np.zeros((len(vectors),1))))\n",
    "    \n",
    "\n",
    "for vector, wellname in zip(vectors,well_names):\n",
    "    #print(\"Well name {} and its coordinate: {}\".format(wellname, vector))\n",
    "    x,y,_ = vector\n",
    "    axis.scatter(x,y, c=\"r\", s=s*100, marker=\",\")\n",
    "    axis.text(x, y, wellname, ha='center', va='bottom',fontsize=\"xx-small\")\n",
    "    \n",
    "plt.show()"
   ]
  },
  {
   "cell_type": "markdown",
   "id": "808e1afd-2f39-4659-ba59-2348b52f41e0",
   "metadata": {},
   "source": [
    "# Perspective transformation with 5mm displacement in x and y axis of well plate in xyz coordinates"
   ]
  },
  {
   "cell_type": "code",
   "execution_count": 3,
   "id": "23d8ba83-d29a-486f-aee3-bd83fd6c7725",
   "metadata": {
    "tags": []
   },
   "outputs": [
    {
     "name": "stdout",
     "output_type": "stream",
     "text": [
      "search for root_dir and set working directory\n",
      "Working directory set to: /media/ibrahim/Extended Storage/cloud/Internship/bioquant/348_wellplate_automation\n",
      "1. Getting all four corner wells coordinates as vectors\n",
      "2. Computing coordinate space from well corners using Homography\n",
      "Learning the homography matrix using Levenberg-Marquardt to map from well plate row and column arrangement to xzy-stage coordinate space\n",
      "Saving all variables associated to the coordinate system.\n",
      "4.509090909166667\n",
      "20.29090909125\n",
      "4.509090909166667\n",
      "20.29090909125\n",
      "x and y step: 4.583333333333333 and 4.5625\n",
      "Ymin -44.0 and Ymax 29.0\n",
      "Xmin -55.0 and Xmax 55.0\n"
     ]
    }
   ],
   "source": [
    "import json\n",
    "from ProjectRoot import change_wd_to_project_root\n",
    "change_wd_to_project_root()\n",
    "from DragonFlyWellPlateAutomation.devices.wellplate import WellPlate as wp\n",
    "\n",
    "\n",
    "WellPlate = wp()\n",
    "WellPlate.well_plate_req_coords[\"Top right well\"] = WellPlate.vector_2_state_dict(tr)\n",
    "WellPlate.well_plate_req_coords[\"Top left well\"] = WellPlate.vector_2_state_dict(tl)\n",
    "WellPlate.well_plate_req_coords[\"Bottom left well\"] = WellPlate.vector_2_state_dict(bl)\n",
    "\n",
    "vectors, well_names, length, height, x_spacing = WellPlate.predict_well_coords(c_n, r_n, algorithm=\"Homography\", algorithm_H=\"Levenberg-Marquardt\", well_plate_req_coords=WellPlate.well_plate_req_coords\n",
    "                            )\n",
    "\n",
    "### Get normalized length and height of axis\n",
    "# Scaling factor of y and x \n",
    "transform = ((404.43636364-79.78181818)/72)\n",
    "well_h= 4.5\n",
    "print(transform)\n",
    "#Pixels\n",
    "well_h_pixels = (well_h * transform) \n",
    "#Points\n",
    "p = 72/100\n",
    "print(well_h_pixels)\n",
    "#s\n",
    "s = (well_h_pixels*p)**2\n",
    "y_offset = (2/16)\n",
    "x_offset = (2/24)\n",
    "fov = 250*10**(-6) * 1024 #height\n",
    "s = (fov*p)**2\n",
    "    \n",
    "axis = create_plot(xmin=-50-5, \n",
    "    xmax=60-5,\n",
    "    ymin=-39-5,\n",
    "    ymax= 34-5)\n",
    "\n",
    "\n",
    "vectors = np.array(vectors, dtype=np.float32)\n",
    "if len(vectors[0]) < 3:\n",
    "    vectors = np.hstack((np.array(vectors, dtype=np.float32), np.zeros((len(vectors),1))))\n",
    "for vector, wellname in zip(vectors,well_names):\n",
    "    #print(\"Well name {} and its coordinate: {}\".format(wellname, vector))\n",
    "    x,y,_ = vector\n",
    "    axis.scatter(x,y, c=\"r\", s=s*100, marker=\",\")\n",
    "    axis.text(x, y, wellname, ha='center', va='bottom',fontsize=\"xx-small\")\n",
    "\n",
    "plt.tight_layout()\n",
    "plt.show()"
   ]
  },
  {
   "cell_type": "markdown",
   "id": "b1b25376-8f21-43b9-8602-7e64e0d392fe",
   "metadata": {},
   "source": [
    "## With fixit to correct for displacement"
   ]
  },
  {
   "cell_type": "code",
   "execution_count": 4,
   "id": "55f8eb7a-5e74-469f-8b87-94c3b59d3991",
   "metadata": {
    "tags": []
   },
   "outputs": [
    {
     "name": "stdout",
     "output_type": "stream",
     "text": [
      "1. Getting all four corner wells coordinates as vectors\n",
      "2. Computing coordinate space from well corners using Homography\n",
      "Learning the homography matrix using Levenberg-Marquardt to map from well plate row and column arrangement to xzy-stage coordinate space\n",
      "Saving all variables associated to the coordinate system.\n",
      "4.509090909166667\n",
      "20.29090909125\n",
      "4.509090909166667\n",
      "20.29090909125\n",
      "x and y step: 4.583333333333333 and 4.625\n",
      "Ymin -45.0 and Ymax 29.0\n",
      "Xmin -55.0 and Xmax 55.0\n"
     ]
    }
   ],
   "source": [
    "vectors, well_names, length, height, x_spacing = WellPlate.predict_well_coords(c_n, r_n, algorithm=\"Homography\", algorithm_H=\"Levenberg-Marquardt\", well_plate_req_coords=WellPlate.well_plate_req_coords\n",
    "                            )\n",
    "\n",
    "from DragonFlyWellPlateAutomation.devices.CoordinateTransforms import homography_fixit\n",
    "\n",
    "\n",
    "### Get normalized length and height of axis\n",
    "# Scaling factor of y and x \n",
    "transform = ((404.43636364-79.78181818)/72)\n",
    "well_h= 4.5\n",
    "print(transform)\n",
    "#Pixels\n",
    "well_h_pixels = (well_h * transform) \n",
    "#Points\n",
    "p = 72/100\n",
    "print(well_h_pixels)\n",
    "#s\n",
    "s = (well_h_pixels*p)**2\n",
    "y_offset = (2/16)\n",
    "x_offset = (2/24)\n",
    "fov = 250*10**(-6) * 1024 #height\n",
    "s = (fov*p)**2\n",
    "    \n",
    "axis = create_plot(xmin=-50-5, \n",
    "    xmax=60-5,\n",
    "    ymin=-40-5,\n",
    "    ymax= 34-5)\n",
    "\n",
    "vectors = np.array(vectors, dtype=np.float32)\n",
    "vectors = homography_fixit(( vectors[-1] - [4.8, 4.4, 0])[:2], vectors[-1], vectors.reshape(r_n, c_n, 3)).reshape(r_n * c_n, 3)\n",
    "\n",
    "if len(vectors[0]) < 3:\n",
    "    vectors = np.hstack((np.array(vectors, dtype=np.float32), np.zeros((len(vectors),1))))\n",
    "for vector, wellname in zip(vectors,well_names):\n",
    "    #print(\"Well name {} and its coordinate: {}\".format(wellname, vector))\n",
    "    x,y,_ = vector\n",
    "    axis.scatter(x,y, c=\"r\", s=s*100, marker=\",\")\n",
    "    axis.text(x, y, wellname, ha='center', va='bottom',fontsize=\"xx-small\")\n",
    "\n",
    "plt.tight_layout()\n",
    "plt.show()"
   ]
  },
  {
   "cell_type": "markdown",
   "id": "ddca718a-d35f-4aa6-b4d8-74796c6a575f",
   "metadata": {},
   "source": [
    "# Obtain Spacing of projective tra"
   ]
  },
  {
   "cell_type": "code",
   "execution_count": 38,
   "id": "f6e68bbe-7037-4f38-94d9-758379157fe1",
   "metadata": {
    "tags": []
   },
   "outputs": [
    {
     "name": "stdout",
     "output_type": "stream",
     "text": [
      "4.509090909166667\n",
      "20.29090909125\n",
      "x and y step: 4.583333333333333 and 4.5\n",
      "Ymin -38.0 and Ymax 34.0\n",
      "Xmin -50.0 and Xmax 60.0\n"
     ]
    }
   ],
   "source": [
    "axis = create_plot()\n",
    "\n",
    "vectors = np.array(vectors, dtype=np.float32)\n",
    "if len(vectors[0]) < 3:\n",
    "    vectors = np.hstack((np.array(vectors, dtype=np.float32), np.zeros((len(vectors),1))))\n",
    "    \n",
    "\n",
    "for vector in np.hstack(vectors.reshape(r_n, c_n, 3).diagonal().reshape(3,16,1)):\n",
    "    x,y,_ = vector\n",
    "    \n",
    "    axis.scatter(x,y, c=\"r\", s=s*100, marker=\",\")\n",
    "    \n",
    "plt.show()"
   ]
  },
  {
   "cell_type": "code",
   "execution_count": 13,
   "id": "8a30edda-3421-4c0a-adc2-1c76ca2a5d4f",
   "metadata": {
    "tags": []
   },
   "outputs": [
    {
     "data": {
      "text/plain": [
       "array([[ 4.6296043e+00,  4.6296043e+00,  4.6296082e+00,  4.6296043e+00,\n",
       "         4.6296062e+00,  4.6296043e+00,  4.6296062e+00,  4.6296062e+00,\n",
       "         4.6296053e+00,  4.6296058e+00,  4.6296058e+00,  4.6296053e+00,\n",
       "         4.6296062e+00,  4.6296053e+00,  4.6296062e+00],\n",
       "       [-4.7617722e+00, -4.7617712e+00, -4.7617722e+00, -4.7617712e+00,\n",
       "        -4.7617717e+00, -4.7617722e+00, -4.7617717e+00, -4.7617722e+00,\n",
       "        -4.7617712e+00, -4.7617722e+00, -4.7617722e+00, -4.7617722e+00,\n",
       "        -4.7617722e+00, -4.7617722e+00, -4.7617683e+00],\n",
       "       [-4.2009354e-04, -4.2033195e-04, -4.2009354e-04, -4.2033195e-04,\n",
       "        -4.2009354e-04, -4.2009354e-04, -4.2033195e-04, -4.2009354e-04,\n",
       "        -4.2033195e-04, -4.2009354e-04, -4.2009354e-04, -4.2033195e-04,\n",
       "        -4.2009354e-04, -4.2033195e-04, -4.2009354e-04]], dtype=float32)"
      ]
     },
     "execution_count": 13,
     "metadata": {},
     "output_type": "execute_result"
    }
   ],
   "source": [
    "out = np.diff(vectors.reshape(r_n, c_n, 3).diagonal(), axis=-1)\n",
    "out"
   ]
  },
  {
   "cell_type": "code",
   "execution_count": 14,
   "id": "d004b287-2e18-487b-baaa-bf83d4fcefcb",
   "metadata": {
    "tags": []
   },
   "outputs": [],
   "source": [
    "x, y, z = out"
   ]
  },
  {
   "cell_type": "code",
   "execution_count": 17,
   "id": "c21e6823-e32a-4931-83be-f3ece0cc9ea6",
   "metadata": {
    "tags": []
   },
   "outputs": [
    {
     "data": {
      "text/plain": [
       "array([4.6296043e+00, 4.7617722e+00, 4.2009354e-04], dtype=float32)"
      ]
     },
     "execution_count": 17,
     "metadata": {},
     "output_type": "execute_result"
    }
   ],
   "source": [
    "abs(np.array([x[0], y[0], z[0]]))"
   ]
  },
  {
   "cell_type": "markdown",
   "id": "82fdafdab45b71ee",
   "metadata": {},
   "source": [
    "27.03"
   ]
  },
  {
   "cell_type": "markdown",
   "id": "ef4be5afe931d035",
   "metadata": {},
   "source": [
    "# Confirm autofocus dataframe"
   ]
  },
  {
   "cell_type": "code",
   "execution_count": 5,
   "id": "eabbef7ccaf33dc5",
   "metadata": {
    "collapsed": false,
    "tags": [],
    "ExecuteTime": {
     "end_time": "2024-03-29T05:59:52.147876487Z",
     "start_time": "2024-03-29T05:59:52.105757867Z"
    }
   },
   "outputs": [
    {
     "data": {
      "text/plain": "    Unnamed: 0                              Img_ID  Z plane Well coords  \\\n0            0   rawtake_n6_well0-0_zheigth457.ims      457         0-0   \n1            1   rawtake_n6_well0-0_zheigth457.ims      457         0-0   \n2            2   rawtake_n6_well0-0_zheigth457.ims      457         0-0   \n3            3   rawtake_n6_well0-0_zheigth457.ims      457         0-0   \n4            4   rawtake_n7_well0-0_zheigth452.ims      452         0-0   \n5            5   rawtake_n7_well0-0_zheigth452.ims      452         0-0   \n6            6   rawtake_n7_well0-0_zheigth452.ims      452         0-0   \n7            7   rawtake_n7_well0-0_zheigth452.ims      452         0-0   \n8            8   rawtake_n1_well0-0_zheigth482.ims      482         0-0   \n9            9   rawtake_n1_well0-0_zheigth482.ims      482         0-0   \n10          10   rawtake_n1_well0-0_zheigth482.ims      482         0-0   \n11          11   rawtake_n1_well0-0_zheigth482.ims      482         0-0   \n12          12   rawtake_n8_well0-0_zheigth447.ims      447         0-0   \n13          13   rawtake_n8_well0-0_zheigth447.ims      447         0-0   \n14          14   rawtake_n8_well0-0_zheigth447.ims      447         0-0   \n15          15   rawtake_n8_well0-0_zheigth447.ims      447         0-0   \n16          16   rawtake_n3_well0-0_zheigth472.ims      472         0-0   \n17          17   rawtake_n3_well0-0_zheigth472.ims      472         0-0   \n18          18   rawtake_n3_well0-0_zheigth472.ims      472         0-0   \n19          19   rawtake_n3_well0-0_zheigth472.ims      472         0-0   \n20          20   rawtake_n5_well0-0_zheigth462.ims      462         0-0   \n21          21   rawtake_n5_well0-0_zheigth462.ims      462         0-0   \n22          22   rawtake_n5_well0-0_zheigth462.ims      462         0-0   \n23          23   rawtake_n5_well0-0_zheigth462.ims      462         0-0   \n24          24  rawtake_n10_well0-0_zheigth437.ims      437         0-0   \n25          25  rawtake_n10_well0-0_zheigth437.ims      437         0-0   \n26          26  rawtake_n10_well0-0_zheigth437.ims      437         0-0   \n27          27  rawtake_n10_well0-0_zheigth437.ims      437         0-0   \n28          28   rawtake_n9_well0-0_zheigth442.ims      442         0-0   \n29          29   rawtake_n9_well0-0_zheigth442.ims      442         0-0   \n30          30   rawtake_n9_well0-0_zheigth442.ims      442         0-0   \n31          31   rawtake_n9_well0-0_zheigth442.ims      442         0-0   \n32          32   rawtake_n4_well0-0_zheigth467.ims      467         0-0   \n33          33   rawtake_n4_well0-0_zheigth467.ims      467         0-0   \n34          34   rawtake_n4_well0-0_zheigth467.ims      467         0-0   \n35          35   rawtake_n4_well0-0_zheigth467.ims      467         0-0   \n36          36   rawtake_n2_well0-0_zheigth477.ims      477         0-0   \n37          37   rawtake_n2_well0-0_zheigth477.ims      477         0-0   \n38          38   rawtake_n2_well0-0_zheigth477.ims      477         0-0   \n39          39   rawtake_n2_well0-0_zheigth477.ims      477         0-0   \n\n    Acquisition number           Metrics         Value Variables  \\\n0                    6          Variance  6.300993e+04       NaN   \n1                    6           Brenner  2.319651e+10       NaN   \n2                    6          Psm mean  1.061564e+05       Psw   \n3                    6  Spectral Moments  4.477759e+00       Psw   \n4                    7          Variance  6.293337e+04       NaN   \n5                    7           Brenner  2.323147e+10       NaN   \n6                    7          Psm mean  1.057186e+05       Psw   \n7                    7  Spectral Moments  4.446972e+00       Psw   \n8                    1          Variance  6.274360e+04       NaN   \n9                    1           Brenner  2.317373e+10       NaN   \n10                   1          Psm mean  1.057331e+05       Psw   \n11                   1  Spectral Moments  4.455563e+00       Psw   \n12                   8          Variance  6.285893e+04       NaN   \n13                   8           Brenner  2.318388e+10       NaN   \n14                   8          Psm mean  1.061409e+05       Psw   \n15                   8  Spectral Moments  4.472230e+00       Psw   \n16                   3          Variance  6.300993e+04       NaN   \n17                   3           Brenner  2.319651e+10       NaN   \n18                   3          Psm mean  1.061564e+05       Psw   \n19                   3  Spectral Moments  4.477759e+00       Psw   \n20                   5          Variance  6.276875e+04       NaN   \n21                   5           Brenner  2.318360e+10       NaN   \n22                   5          Psm mean  1.056253e+05       Psw   \n23                   5  Spectral Moments  4.439578e+00       Psw   \n24                  10          Variance  6.301658e+04       NaN   \n25                  10           Brenner  2.319803e+10       NaN   \n26                  10          Psm mean  1.061934e+05       Psw   \n27                  10  Spectral Moments  4.477546e+00       Psw   \n28                   9          Variance  6.297348e+04       NaN   \n29                   9           Brenner  2.324183e+10       NaN   \n30                   9          Psm mean  1.060842e+05       Psw   \n31                   9  Spectral Moments  4.458207e+00       Psw   \n32                   4          Variance  6.298510e+04       NaN   \n33                   4           Brenner  2.318246e+10       NaN   \n34                   4          Psm mean  1.060574e+05       Psw   \n35                   4  Spectral Moments  4.465931e+00       Psw   \n36                   2          Variance  6.295456e+04       NaN   \n37                   2           Brenner  2.318751e+10       NaN   \n38                   2          Psm mean  1.058100e+05       Psw   \n39                   2  Spectral Moments  4.451548e+00       Psw   \n\n                                            Frequency  \\\n0                                                 NaN   \n1                                                 NaN   \n2   [0.00000000e+00 9.78473581e-06 1.95694716e-05 ...   \n3   [0.00000000e+00 9.78473581e-06 1.95694716e-05 ...   \n4                                                 NaN   \n5                                                 NaN   \n6   [0.00000000e+00 9.78473581e-06 1.95694716e-05 ...   \n7   [0.00000000e+00 9.78473581e-06 1.95694716e-05 ...   \n8                                                 NaN   \n9                                                 NaN   \n10  [0.00000000e+00 9.78473581e-06 1.95694716e-05 ...   \n11  [0.00000000e+00 9.78473581e-06 1.95694716e-05 ...   \n12                                                NaN   \n13                                                NaN   \n14  [0.00000000e+00 9.78473581e-06 1.95694716e-05 ...   \n15  [0.00000000e+00 9.78473581e-06 1.95694716e-05 ...   \n16                                                NaN   \n17                                                NaN   \n18  [0.00000000e+00 9.78473581e-06 1.95694716e-05 ...   \n19  [0.00000000e+00 9.78473581e-06 1.95694716e-05 ...   \n20                                                NaN   \n21                                                NaN   \n22  [0.00000000e+00 9.78473581e-06 1.95694716e-05 ...   \n23  [0.00000000e+00 9.78473581e-06 1.95694716e-05 ...   \n24                                                NaN   \n25                                                NaN   \n26  [0.00000000e+00 9.78473581e-06 1.95694716e-05 ...   \n27  [0.00000000e+00 9.78473581e-06 1.95694716e-05 ...   \n28                                                NaN   \n29                                                NaN   \n30  [0.00000000e+00 9.78473581e-06 1.95694716e-05 ...   \n31  [0.00000000e+00 9.78473581e-06 1.95694716e-05 ...   \n32                                                NaN   \n33                                                NaN   \n34  [0.00000000e+00 9.78473581e-06 1.95694716e-05 ...   \n35  [0.00000000e+00 9.78473581e-06 1.95694716e-05 ...   \n36                                                NaN   \n37                                                NaN   \n38  [0.00000000e+00 9.78473581e-06 1.95694716e-05 ...   \n39  [0.00000000e+00 9.78473581e-06 1.95694716e-05 ...   \n\n                                          Total power  \n0                                                 NaN  \n1                                                 NaN  \n2   [2.83927981e+09 1.08710977e+07 1.34345211e+06 ...  \n3   [9.76936523e+01 3.74051628e-01 4.62253640e-02 ...  \n4                                                 NaN  \n5                                                 NaN  \n6   [2.84825247e+09 1.08139954e+07 1.35933432e+06 ...  \n7   [9.77093867e+01 3.70974439e-01 4.66320046e-02 ...  \n8                                                 NaN  \n9                                                 NaN  \n10  [2.84179360e+09 1.08080980e+07 1.32402970e+06 ...  \n11  [9.77062359e+01 3.71602840e-01 4.55226439e-02 ...  \n12                                                NaN  \n13                                                NaN  \n14  [2.84206824e+09 1.07857774e+07 1.40484958e+06 ...  \n15  [9.76963143e+01 3.70761926e-01 4.82918124e-02 ...  \n16                                                NaN  \n17                                                NaN  \n18  [2.83927981e+09 1.08710977e+07 1.34345211e+06 ...  \n19  [9.76936523e+01 3.74051628e-01 4.62253640e-02 ...  \n20                                                NaN  \n21                                                NaN  \n22  [2.85050779e+09 1.07345100e+07 1.38759449e+06 ...  \n23  [9.77136512e+01 3.67972390e-01 4.75658845e-02 ...  \n24                                                NaN  \n25                                                NaN  \n26  [2.84007992e+09 1.08624231e+07 1.37011378e+06 ...  \n27  [9.76929133e+01 3.73645034e-01 4.71290988e-02 ...  \n28                                                NaN  \n29                                                NaN  \n30  [2.85032836e+09 1.07639038e+07 1.39357163e+06 ...  \n31  [9.77049546e+01 3.68970378e-01 4.77695322e-02 ...  \n32                                                NaN  \n33                                                NaN  \n34  [2.84301436e+09 1.08559766e+07 1.30098312e+06 ...  \n35  [9.77010237e+01 3.73068825e-01 4.47086671e-02 ...  \n36                                                NaN  \n37                                                NaN  \n38  [2.84659104e+09 1.08401202e+07 1.33314285e+06 ...  \n39  [9.77072222e+01 3.72079453e-01 4.57591844e-02 ...  ",
      "text/html": "<div>\n<style scoped>\n    .dataframe tbody tr th:only-of-type {\n        vertical-align: middle;\n    }\n\n    .dataframe tbody tr th {\n        vertical-align: top;\n    }\n\n    .dataframe thead th {\n        text-align: right;\n    }\n</style>\n<table border=\"1\" class=\"dataframe\">\n  <thead>\n    <tr style=\"text-align: right;\">\n      <th></th>\n      <th>Unnamed: 0</th>\n      <th>Img_ID</th>\n      <th>Z plane</th>\n      <th>Well coords</th>\n      <th>Acquisition number</th>\n      <th>Metrics</th>\n      <th>Value</th>\n      <th>Variables</th>\n      <th>Frequency</th>\n      <th>Total power</th>\n    </tr>\n  </thead>\n  <tbody>\n    <tr>\n      <th>0</th>\n      <td>0</td>\n      <td>rawtake_n6_well0-0_zheigth457.ims</td>\n      <td>457</td>\n      <td>0-0</td>\n      <td>6</td>\n      <td>Variance</td>\n      <td>6.300993e+04</td>\n      <td>NaN</td>\n      <td>NaN</td>\n      <td>NaN</td>\n    </tr>\n    <tr>\n      <th>1</th>\n      <td>1</td>\n      <td>rawtake_n6_well0-0_zheigth457.ims</td>\n      <td>457</td>\n      <td>0-0</td>\n      <td>6</td>\n      <td>Brenner</td>\n      <td>2.319651e+10</td>\n      <td>NaN</td>\n      <td>NaN</td>\n      <td>NaN</td>\n    </tr>\n    <tr>\n      <th>2</th>\n      <td>2</td>\n      <td>rawtake_n6_well0-0_zheigth457.ims</td>\n      <td>457</td>\n      <td>0-0</td>\n      <td>6</td>\n      <td>Psm mean</td>\n      <td>1.061564e+05</td>\n      <td>Psw</td>\n      <td>[0.00000000e+00 9.78473581e-06 1.95694716e-05 ...</td>\n      <td>[2.83927981e+09 1.08710977e+07 1.34345211e+06 ...</td>\n    </tr>\n    <tr>\n      <th>3</th>\n      <td>3</td>\n      <td>rawtake_n6_well0-0_zheigth457.ims</td>\n      <td>457</td>\n      <td>0-0</td>\n      <td>6</td>\n      <td>Spectral Moments</td>\n      <td>4.477759e+00</td>\n      <td>Psw</td>\n      <td>[0.00000000e+00 9.78473581e-06 1.95694716e-05 ...</td>\n      <td>[9.76936523e+01 3.74051628e-01 4.62253640e-02 ...</td>\n    </tr>\n    <tr>\n      <th>4</th>\n      <td>4</td>\n      <td>rawtake_n7_well0-0_zheigth452.ims</td>\n      <td>452</td>\n      <td>0-0</td>\n      <td>7</td>\n      <td>Variance</td>\n      <td>6.293337e+04</td>\n      <td>NaN</td>\n      <td>NaN</td>\n      <td>NaN</td>\n    </tr>\n    <tr>\n      <th>5</th>\n      <td>5</td>\n      <td>rawtake_n7_well0-0_zheigth452.ims</td>\n      <td>452</td>\n      <td>0-0</td>\n      <td>7</td>\n      <td>Brenner</td>\n      <td>2.323147e+10</td>\n      <td>NaN</td>\n      <td>NaN</td>\n      <td>NaN</td>\n    </tr>\n    <tr>\n      <th>6</th>\n      <td>6</td>\n      <td>rawtake_n7_well0-0_zheigth452.ims</td>\n      <td>452</td>\n      <td>0-0</td>\n      <td>7</td>\n      <td>Psm mean</td>\n      <td>1.057186e+05</td>\n      <td>Psw</td>\n      <td>[0.00000000e+00 9.78473581e-06 1.95694716e-05 ...</td>\n      <td>[2.84825247e+09 1.08139954e+07 1.35933432e+06 ...</td>\n    </tr>\n    <tr>\n      <th>7</th>\n      <td>7</td>\n      <td>rawtake_n7_well0-0_zheigth452.ims</td>\n      <td>452</td>\n      <td>0-0</td>\n      <td>7</td>\n      <td>Spectral Moments</td>\n      <td>4.446972e+00</td>\n      <td>Psw</td>\n      <td>[0.00000000e+00 9.78473581e-06 1.95694716e-05 ...</td>\n      <td>[9.77093867e+01 3.70974439e-01 4.66320046e-02 ...</td>\n    </tr>\n    <tr>\n      <th>8</th>\n      <td>8</td>\n      <td>rawtake_n1_well0-0_zheigth482.ims</td>\n      <td>482</td>\n      <td>0-0</td>\n      <td>1</td>\n      <td>Variance</td>\n      <td>6.274360e+04</td>\n      <td>NaN</td>\n      <td>NaN</td>\n      <td>NaN</td>\n    </tr>\n    <tr>\n      <th>9</th>\n      <td>9</td>\n      <td>rawtake_n1_well0-0_zheigth482.ims</td>\n      <td>482</td>\n      <td>0-0</td>\n      <td>1</td>\n      <td>Brenner</td>\n      <td>2.317373e+10</td>\n      <td>NaN</td>\n      <td>NaN</td>\n      <td>NaN</td>\n    </tr>\n    <tr>\n      <th>10</th>\n      <td>10</td>\n      <td>rawtake_n1_well0-0_zheigth482.ims</td>\n      <td>482</td>\n      <td>0-0</td>\n      <td>1</td>\n      <td>Psm mean</td>\n      <td>1.057331e+05</td>\n      <td>Psw</td>\n      <td>[0.00000000e+00 9.78473581e-06 1.95694716e-05 ...</td>\n      <td>[2.84179360e+09 1.08080980e+07 1.32402970e+06 ...</td>\n    </tr>\n    <tr>\n      <th>11</th>\n      <td>11</td>\n      <td>rawtake_n1_well0-0_zheigth482.ims</td>\n      <td>482</td>\n      <td>0-0</td>\n      <td>1</td>\n      <td>Spectral Moments</td>\n      <td>4.455563e+00</td>\n      <td>Psw</td>\n      <td>[0.00000000e+00 9.78473581e-06 1.95694716e-05 ...</td>\n      <td>[9.77062359e+01 3.71602840e-01 4.55226439e-02 ...</td>\n    </tr>\n    <tr>\n      <th>12</th>\n      <td>12</td>\n      <td>rawtake_n8_well0-0_zheigth447.ims</td>\n      <td>447</td>\n      <td>0-0</td>\n      <td>8</td>\n      <td>Variance</td>\n      <td>6.285893e+04</td>\n      <td>NaN</td>\n      <td>NaN</td>\n      <td>NaN</td>\n    </tr>\n    <tr>\n      <th>13</th>\n      <td>13</td>\n      <td>rawtake_n8_well0-0_zheigth447.ims</td>\n      <td>447</td>\n      <td>0-0</td>\n      <td>8</td>\n      <td>Brenner</td>\n      <td>2.318388e+10</td>\n      <td>NaN</td>\n      <td>NaN</td>\n      <td>NaN</td>\n    </tr>\n    <tr>\n      <th>14</th>\n      <td>14</td>\n      <td>rawtake_n8_well0-0_zheigth447.ims</td>\n      <td>447</td>\n      <td>0-0</td>\n      <td>8</td>\n      <td>Psm mean</td>\n      <td>1.061409e+05</td>\n      <td>Psw</td>\n      <td>[0.00000000e+00 9.78473581e-06 1.95694716e-05 ...</td>\n      <td>[2.84206824e+09 1.07857774e+07 1.40484958e+06 ...</td>\n    </tr>\n    <tr>\n      <th>15</th>\n      <td>15</td>\n      <td>rawtake_n8_well0-0_zheigth447.ims</td>\n      <td>447</td>\n      <td>0-0</td>\n      <td>8</td>\n      <td>Spectral Moments</td>\n      <td>4.472230e+00</td>\n      <td>Psw</td>\n      <td>[0.00000000e+00 9.78473581e-06 1.95694716e-05 ...</td>\n      <td>[9.76963143e+01 3.70761926e-01 4.82918124e-02 ...</td>\n    </tr>\n    <tr>\n      <th>16</th>\n      <td>16</td>\n      <td>rawtake_n3_well0-0_zheigth472.ims</td>\n      <td>472</td>\n      <td>0-0</td>\n      <td>3</td>\n      <td>Variance</td>\n      <td>6.300993e+04</td>\n      <td>NaN</td>\n      <td>NaN</td>\n      <td>NaN</td>\n    </tr>\n    <tr>\n      <th>17</th>\n      <td>17</td>\n      <td>rawtake_n3_well0-0_zheigth472.ims</td>\n      <td>472</td>\n      <td>0-0</td>\n      <td>3</td>\n      <td>Brenner</td>\n      <td>2.319651e+10</td>\n      <td>NaN</td>\n      <td>NaN</td>\n      <td>NaN</td>\n    </tr>\n    <tr>\n      <th>18</th>\n      <td>18</td>\n      <td>rawtake_n3_well0-0_zheigth472.ims</td>\n      <td>472</td>\n      <td>0-0</td>\n      <td>3</td>\n      <td>Psm mean</td>\n      <td>1.061564e+05</td>\n      <td>Psw</td>\n      <td>[0.00000000e+00 9.78473581e-06 1.95694716e-05 ...</td>\n      <td>[2.83927981e+09 1.08710977e+07 1.34345211e+06 ...</td>\n    </tr>\n    <tr>\n      <th>19</th>\n      <td>19</td>\n      <td>rawtake_n3_well0-0_zheigth472.ims</td>\n      <td>472</td>\n      <td>0-0</td>\n      <td>3</td>\n      <td>Spectral Moments</td>\n      <td>4.477759e+00</td>\n      <td>Psw</td>\n      <td>[0.00000000e+00 9.78473581e-06 1.95694716e-05 ...</td>\n      <td>[9.76936523e+01 3.74051628e-01 4.62253640e-02 ...</td>\n    </tr>\n    <tr>\n      <th>20</th>\n      <td>20</td>\n      <td>rawtake_n5_well0-0_zheigth462.ims</td>\n      <td>462</td>\n      <td>0-0</td>\n      <td>5</td>\n      <td>Variance</td>\n      <td>6.276875e+04</td>\n      <td>NaN</td>\n      <td>NaN</td>\n      <td>NaN</td>\n    </tr>\n    <tr>\n      <th>21</th>\n      <td>21</td>\n      <td>rawtake_n5_well0-0_zheigth462.ims</td>\n      <td>462</td>\n      <td>0-0</td>\n      <td>5</td>\n      <td>Brenner</td>\n      <td>2.318360e+10</td>\n      <td>NaN</td>\n      <td>NaN</td>\n      <td>NaN</td>\n    </tr>\n    <tr>\n      <th>22</th>\n      <td>22</td>\n      <td>rawtake_n5_well0-0_zheigth462.ims</td>\n      <td>462</td>\n      <td>0-0</td>\n      <td>5</td>\n      <td>Psm mean</td>\n      <td>1.056253e+05</td>\n      <td>Psw</td>\n      <td>[0.00000000e+00 9.78473581e-06 1.95694716e-05 ...</td>\n      <td>[2.85050779e+09 1.07345100e+07 1.38759449e+06 ...</td>\n    </tr>\n    <tr>\n      <th>23</th>\n      <td>23</td>\n      <td>rawtake_n5_well0-0_zheigth462.ims</td>\n      <td>462</td>\n      <td>0-0</td>\n      <td>5</td>\n      <td>Spectral Moments</td>\n      <td>4.439578e+00</td>\n      <td>Psw</td>\n      <td>[0.00000000e+00 9.78473581e-06 1.95694716e-05 ...</td>\n      <td>[9.77136512e+01 3.67972390e-01 4.75658845e-02 ...</td>\n    </tr>\n    <tr>\n      <th>24</th>\n      <td>24</td>\n      <td>rawtake_n10_well0-0_zheigth437.ims</td>\n      <td>437</td>\n      <td>0-0</td>\n      <td>10</td>\n      <td>Variance</td>\n      <td>6.301658e+04</td>\n      <td>NaN</td>\n      <td>NaN</td>\n      <td>NaN</td>\n    </tr>\n    <tr>\n      <th>25</th>\n      <td>25</td>\n      <td>rawtake_n10_well0-0_zheigth437.ims</td>\n      <td>437</td>\n      <td>0-0</td>\n      <td>10</td>\n      <td>Brenner</td>\n      <td>2.319803e+10</td>\n      <td>NaN</td>\n      <td>NaN</td>\n      <td>NaN</td>\n    </tr>\n    <tr>\n      <th>26</th>\n      <td>26</td>\n      <td>rawtake_n10_well0-0_zheigth437.ims</td>\n      <td>437</td>\n      <td>0-0</td>\n      <td>10</td>\n      <td>Psm mean</td>\n      <td>1.061934e+05</td>\n      <td>Psw</td>\n      <td>[0.00000000e+00 9.78473581e-06 1.95694716e-05 ...</td>\n      <td>[2.84007992e+09 1.08624231e+07 1.37011378e+06 ...</td>\n    </tr>\n    <tr>\n      <th>27</th>\n      <td>27</td>\n      <td>rawtake_n10_well0-0_zheigth437.ims</td>\n      <td>437</td>\n      <td>0-0</td>\n      <td>10</td>\n      <td>Spectral Moments</td>\n      <td>4.477546e+00</td>\n      <td>Psw</td>\n      <td>[0.00000000e+00 9.78473581e-06 1.95694716e-05 ...</td>\n      <td>[9.76929133e+01 3.73645034e-01 4.71290988e-02 ...</td>\n    </tr>\n    <tr>\n      <th>28</th>\n      <td>28</td>\n      <td>rawtake_n9_well0-0_zheigth442.ims</td>\n      <td>442</td>\n      <td>0-0</td>\n      <td>9</td>\n      <td>Variance</td>\n      <td>6.297348e+04</td>\n      <td>NaN</td>\n      <td>NaN</td>\n      <td>NaN</td>\n    </tr>\n    <tr>\n      <th>29</th>\n      <td>29</td>\n      <td>rawtake_n9_well0-0_zheigth442.ims</td>\n      <td>442</td>\n      <td>0-0</td>\n      <td>9</td>\n      <td>Brenner</td>\n      <td>2.324183e+10</td>\n      <td>NaN</td>\n      <td>NaN</td>\n      <td>NaN</td>\n    </tr>\n    <tr>\n      <th>30</th>\n      <td>30</td>\n      <td>rawtake_n9_well0-0_zheigth442.ims</td>\n      <td>442</td>\n      <td>0-0</td>\n      <td>9</td>\n      <td>Psm mean</td>\n      <td>1.060842e+05</td>\n      <td>Psw</td>\n      <td>[0.00000000e+00 9.78473581e-06 1.95694716e-05 ...</td>\n      <td>[2.85032836e+09 1.07639038e+07 1.39357163e+06 ...</td>\n    </tr>\n    <tr>\n      <th>31</th>\n      <td>31</td>\n      <td>rawtake_n9_well0-0_zheigth442.ims</td>\n      <td>442</td>\n      <td>0-0</td>\n      <td>9</td>\n      <td>Spectral Moments</td>\n      <td>4.458207e+00</td>\n      <td>Psw</td>\n      <td>[0.00000000e+00 9.78473581e-06 1.95694716e-05 ...</td>\n      <td>[9.77049546e+01 3.68970378e-01 4.77695322e-02 ...</td>\n    </tr>\n    <tr>\n      <th>32</th>\n      <td>32</td>\n      <td>rawtake_n4_well0-0_zheigth467.ims</td>\n      <td>467</td>\n      <td>0-0</td>\n      <td>4</td>\n      <td>Variance</td>\n      <td>6.298510e+04</td>\n      <td>NaN</td>\n      <td>NaN</td>\n      <td>NaN</td>\n    </tr>\n    <tr>\n      <th>33</th>\n      <td>33</td>\n      <td>rawtake_n4_well0-0_zheigth467.ims</td>\n      <td>467</td>\n      <td>0-0</td>\n      <td>4</td>\n      <td>Brenner</td>\n      <td>2.318246e+10</td>\n      <td>NaN</td>\n      <td>NaN</td>\n      <td>NaN</td>\n    </tr>\n    <tr>\n      <th>34</th>\n      <td>34</td>\n      <td>rawtake_n4_well0-0_zheigth467.ims</td>\n      <td>467</td>\n      <td>0-0</td>\n      <td>4</td>\n      <td>Psm mean</td>\n      <td>1.060574e+05</td>\n      <td>Psw</td>\n      <td>[0.00000000e+00 9.78473581e-06 1.95694716e-05 ...</td>\n      <td>[2.84301436e+09 1.08559766e+07 1.30098312e+06 ...</td>\n    </tr>\n    <tr>\n      <th>35</th>\n      <td>35</td>\n      <td>rawtake_n4_well0-0_zheigth467.ims</td>\n      <td>467</td>\n      <td>0-0</td>\n      <td>4</td>\n      <td>Spectral Moments</td>\n      <td>4.465931e+00</td>\n      <td>Psw</td>\n      <td>[0.00000000e+00 9.78473581e-06 1.95694716e-05 ...</td>\n      <td>[9.77010237e+01 3.73068825e-01 4.47086671e-02 ...</td>\n    </tr>\n    <tr>\n      <th>36</th>\n      <td>36</td>\n      <td>rawtake_n2_well0-0_zheigth477.ims</td>\n      <td>477</td>\n      <td>0-0</td>\n      <td>2</td>\n      <td>Variance</td>\n      <td>6.295456e+04</td>\n      <td>NaN</td>\n      <td>NaN</td>\n      <td>NaN</td>\n    </tr>\n    <tr>\n      <th>37</th>\n      <td>37</td>\n      <td>rawtake_n2_well0-0_zheigth477.ims</td>\n      <td>477</td>\n      <td>0-0</td>\n      <td>2</td>\n      <td>Brenner</td>\n      <td>2.318751e+10</td>\n      <td>NaN</td>\n      <td>NaN</td>\n      <td>NaN</td>\n    </tr>\n    <tr>\n      <th>38</th>\n      <td>38</td>\n      <td>rawtake_n2_well0-0_zheigth477.ims</td>\n      <td>477</td>\n      <td>0-0</td>\n      <td>2</td>\n      <td>Psm mean</td>\n      <td>1.058100e+05</td>\n      <td>Psw</td>\n      <td>[0.00000000e+00 9.78473581e-06 1.95694716e-05 ...</td>\n      <td>[2.84659104e+09 1.08401202e+07 1.33314285e+06 ...</td>\n    </tr>\n    <tr>\n      <th>39</th>\n      <td>39</td>\n      <td>rawtake_n2_well0-0_zheigth477.ims</td>\n      <td>477</td>\n      <td>0-0</td>\n      <td>2</td>\n      <td>Spectral Moments</td>\n      <td>4.451548e+00</td>\n      <td>Psw</td>\n      <td>[0.00000000e+00 9.78473581e-06 1.95694716e-05 ...</td>\n      <td>[9.77072222e+01 3.72079453e-01 4.57591844e-02 ...</td>\n    </tr>\n  </tbody>\n</table>\n</div>"
     },
     "execution_count": 5,
     "metadata": {},
     "output_type": "execute_result"
    }
   ],
   "source": [
    "import pandas as pd\n",
    "\n",
    "df = pd.read_csv(\"/media/ibrahim/Extended Storage/cloud/Internship/bioquant/348_wellplate_automation/test_rn/df.csv\")\n",
    "\n",
    "df"
   ]
  },
  {
   "cell_type": "code",
   "execution_count": null,
   "id": "4d30103b7e57c0da",
   "metadata": {
    "collapsed": false
   },
   "outputs": [],
   "source": []
  }
 ],
 "metadata": {
  "kernelspec": {
   "display_name": "bioquant",
   "language": "python",
   "name": "bioquant"
  },
  "language_info": {
   "codemirror_mode": {
    "name": "ipython",
    "version": 3
   },
   "file_extension": ".py",
   "mimetype": "text/x-python",
   "name": "python",
   "nbconvert_exporter": "python",
   "pygments_lexer": "ipython3",
   "version": "3.8.18"
  }
 },
 "nbformat": 4,
 "nbformat_minor": 5
}
