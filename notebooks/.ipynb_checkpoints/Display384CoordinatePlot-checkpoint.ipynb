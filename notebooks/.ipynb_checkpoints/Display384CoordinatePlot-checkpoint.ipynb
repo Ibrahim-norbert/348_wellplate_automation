{
 "cells": [
  {
   "cell_type": "code",
   "execution_count": null,
   "id": "c948230c-230c-4613-950a-14276a204ca2",
   "metadata": {},
   "outputs": [],
   "source": []
  },
  {
   "cell_type": "markdown",
   "id": "95bc9962-2029-493c-8a08-fbbedf74abb9",
   "metadata": {},
   "source": [
    "# Display the 384 well plate"
   ]
  },
  {
   "cell_type": "code",
   "execution_count": 1,
   "id": "92bcc3c1-7e1d-46eb-98ca-1bf8e2259629",
   "metadata": {
    "tags": []
   },
   "outputs": [
    {
     "name": "stdout",
     "output_type": "stream",
     "text": [
      "search for root_dir and set working directory\n",
      "Working directory set to: /media/ibrahim/Extended Storage/cloud/Internship/bioquant/348_wellplate_automation\n"
     ]
    }
   ],
   "source": [
    "import json\n",
    "from ProjectRoot import change_wd_to_project_root\n",
    "change_wd_to_project_root()"
   ]
  },
  {
   "cell_type": "code",
   "execution_count": 2,
   "id": "db41aebc-2889-4014-8f8d-2f4309a101f2",
   "metadata": {
    "tags": []
   },
   "outputs": [],
   "source": [
    "\n",
    "x_paths = [\"/media/ibrahim/Extended Storage/cloud/Internship/bioquant/348_wellplate_automation/endpoint_outputs/Top right_xposition.json\",\n",
    "          \"/media/ibrahim/Extended Storage/cloud/Internship/bioquant/348_wellplate_automation/endpoint_outputs/Top left_xposition.json\",\n",
    "          \"/media/ibrahim/Extended Storage/cloud/Internship/bioquant/348_wellplate_automation/endpoint_outputs/Bottom left_xposition.json\"]\n",
    "y_paths = [\"/media/ibrahim/Extended Storage/cloud/Internship/bioquant/348_wellplate_automation/endpoint_outputs/Top right_yposition.json\",\n",
    "          \"/media/ibrahim/Extended Storage/cloud/Internship/bioquant/348_wellplate_automation/endpoint_outputs/Top left_yposition.json\",\n",
    "          \"/media/ibrahim/Extended Storage/cloud/Internship/bioquant/348_wellplate_automation/endpoint_outputs/Bottom left_yposition.json\"]\n",
    "\n",
    "tr, tl, bl = [ [eval(json.load(open(x))[\"Value\"]),eval(json.load(open(y))[\"Value\"])] for x,y in zip(x_paths, y_paths) ]\n",
    "r_n, c_n = 24, 16"
   ]
  },
  {
   "cell_type": "code",
   "execution_count": 2,
   "id": "7a22da1e-6211-4cd8-86b1-9dbb21ebd41b",
   "metadata": {
    "tags": []
   },
   "outputs": [],
   "source": [
    "from DragonFlyWellPlateAutomation.gui.Visualisation import setplotlimits, setticks\n",
    "import matplotlib.pyplot as plt\n",
    "import numpy as np"
   ]
  },
  {
   "cell_type": "code",
   "execution_count": 2,
   "id": "01b036e9-6783-4907-ad89-1ce8f77d4720",
   "metadata": {
    "tags": []
   },
   "outputs": [],
   "source": [
    "import matplotlib.pyplot as plt\n",
    "import numpy as np\n",
    "\n",
    "\n",
    "def create_plot():\n",
    "    \n",
    "    # All values are in mm\n",
    "\n",
    "    fig, axis = plt.subplots()\n",
    "    xmin=-50 \n",
    "    xmax=60\n",
    "    ymin=-38\n",
    "    ymax= 34\n",
    "\n",
    "    ## Reduce scatter point to field of view size\n",
    "    fov = 250*10**(-6) * 1024\n",
    "\n",
    "\n",
    "\n",
    "    axis.set_xlim(xmin, xmax)\n",
    "    axis.set_ylim(ymin, ymax)\n",
    "\n",
    "    c_n = 24\n",
    "    r_n = 16\n",
    "\n",
    "    x_coords=np.linspace(-50,60,c_n)\n",
    "    x_values=list(range(1, c_n+1))\n",
    "    ycoords=np.linspace(-38,34,r_n)\n",
    "    y_values= [x for x in \"ABCDEFGHIJKLMNOPQRSTUVWXYZ\"[:r_n]]\n",
    "\n",
    "\n",
    "    axis.set_xticks(x_coords)\n",
    "    axis.set_xticklabels(x_values)\n",
    "    axis.tick_params(axis='x', labelsize='x-small')\n",
    "\n",
    "    # Set y-axis ticks from P to A\n",
    "    axis.set_yticks(ycoords)\n",
    "    axis.set_yticklabels(reversed(y_values))\n",
    "    axis.tick_params(axis='y', labelsize='medium')\n",
    "\n",
    "\n",
    "    axis.set_title('Real-Time {} well plate positioning'.format(c_n * r_n))\n",
    "\n",
    "    axis.grid(which='both')\n",
    "    axis.set_aspect(\"equal\")\n",
    "\n",
    "    ### Get normalized length and height of axis\n",
    "    # Scaling factor of y and x \n",
    "    transform = ((404.43636364-79.78181818)/72)\n",
    "    well_h= 4.5\n",
    "    print(transform)\n",
    "    #Pixels\n",
    "    well_h_pixels = (well_h * transform) \n",
    "    #Points\n",
    "    p = 72/100\n",
    "    print(well_h_pixels)\n",
    "    #s\n",
    "    s = (well_h_pixels*p)**2\n",
    "    y_offset = (2/16)\n",
    "    x_offset = (2/24)\n",
    "    fov = 250*10**(-6) * 1024 #height\n",
    "    s = (fov*p)**2\n",
    "\n",
    "\n",
    "    return axis"
   ]
  },
  {
   "cell_type": "code",
   "execution_count": 18,
   "id": "c803494e-9128-4177-8942-45ce51975f5b",
   "metadata": {
    "tags": []
   },
   "outputs": [
    {
     "name": "stdout",
     "output_type": "stream",
     "text": [
      "[-47.7, 33.1]\n"
     ]
    }
   ],
   "source": [
    "print(tl)"
   ]
  },
  {
   "cell_type": "code",
   "execution_count": 20,
   "id": "b04ed515-b242-4684-87f8-201d98258565",
   "metadata": {
    "tags": []
   },
   "outputs": [
    {
     "name": "stdout",
     "output_type": "stream",
     "text": [
      "[-47.7, -38.6]\n"
     ]
    }
   ],
   "source": [
    "print(bl)"
   ]
  },
  {
   "cell_type": "code",
   "execution_count": 4,
   "id": "231229d5-a6ee-4319-86a5-c39cbaa7b919",
   "metadata": {
    "tags": []
   },
   "outputs": [
    {
     "name": "stdout",
     "output_type": "stream",
     "text": [
      "4.509090909166667\n",
      "20.29090909125\n"
     ]
    },
    {
     "data": {
      "image/png": "[encoded data removed]",
      "text/plain": [
       "<Figure size 640x480 with 1 Axes>"
      ]
     },
     "metadata": {},
     "output_type": "display_data"
    }
   ],
   "source": [
    "import matplotlib.pyplot as plt\n",
    "import numpy as np\n",
    "\n",
    "# All values are in mm\n",
    "\n",
    "fig, axis = plt.subplots()\n",
    "xmin=-50 \n",
    "xmax=60\n",
    "ymin=-38\n",
    "ymax= 34\n",
    "\n",
    "## Reduce scatter point to field of view size\n",
    "fov = 250*10**(-6) * 1024\n",
    "\n",
    "\n",
    "\n",
    "axis.set_xlim(xmin, xmax)\n",
    "axis.set_ylim(ymin, ymax)\n",
    "\n",
    "c_n = 24\n",
    "r_n = 16\n",
    "\n",
    "x_coords=np.linspace(-50,60,c_n)\n",
    "x_values=list(range(1, c_n+1))\n",
    "ycoords=np.linspace(-38,34,r_n)\n",
    "y_values= [x for x in \"ABCDEFGHIJKLMNOPQRSTUVWXYZ\"[:r_n]]\n",
    "\n",
    "\n",
    "axis.set_xticks(x_coords)\n",
    "axis.set_xticklabels(x_values)\n",
    "axis.tick_params(axis='x', labelsize='x-small')\n",
    "\n",
    "# Set y-axis ticks from P to A\n",
    "axis.set_yticks(ycoords)\n",
    "axis.set_yticklabels(reversed(y_values))\n",
    "axis.tick_params(axis='y', labelsize='medium')\n",
    "    \n",
    "    \n",
    "axis.set_title('Real-Time {} well plate positioning'.format(c_n * r_n))\n",
    "\n",
    "axis.grid(which='both')\n",
    "axis.set_aspect(\"equal\")\n",
    "\n",
    "### Get normalized length and height of axis\n",
    "# Scaling factor of y and x \n",
    "transform = ((404.43636364-79.78181818)/72)\n",
    "well_h= 4.5\n",
    "print(transform)\n",
    "#Pixels\n",
    "well_h_pixels = (well_h * transform) \n",
    "#Points\n",
    "p = 72/100\n",
    "print(well_h_pixels)\n",
    "#s\n",
    "s = (well_h_pixels*p)**2\n",
    "y_offset = (2/16)\n",
    "x_offset = (2/24)\n",
    "fov = 250*10**(-6) * 1024 #height\n",
    "s = (fov*p)**2\n",
    "\n",
    "\n",
    "axis.scatter(xmin + (4.5/2) + x_offset, ymax-(4.5/2)-y_offset, c=\"r\", s=s*100, marker=\",\")\n",
    "\n",
    "\n",
    "plt.show()"
   ]
  },
  {
   "cell_type": "code",
   "execution_count": null,
   "id": "3d55ff59-3d2e-4d5c-a4e5-6ecd1614e25e",
   "metadata": {},
   "outputs": [],
   "source": [
    "# Save this as marker occuping one cell\n",
    "axis.scatter(xmin + (4.5/2) + x_offset, ymax-(4.5/2)-y_offset, c=\"r\", s=s, marker=\",\")"
   ]
  },
  {
   "cell_type": "code",
   "execution_count": 23,
   "id": "e5ab2478-e49b-4a43-b609-2afdcaccbf6f",
   "metadata": {
    "tags": []
   },
   "outputs": [
    {
     "data": {
      "text/plain": [
       "-72"
      ]
     },
     "execution_count": 23,
     "metadata": {},
     "output_type": "execute_result"
    }
   ],
   "source": [
    "- 60 - 50 # 110 x length\n",
    "\n",
    "-40 - 32 # 72mm x height\n"
   ]
  },
  {
   "cell_type": "code",
   "execution_count": 29,
   "id": "7348bd1d-f3bd-4235-bfa3-b651e5bf14c5",
   "metadata": {
    "tags": []
   },
   "outputs": [
    {
     "data": {
      "text/plain": [
       "array([80.        , 79.78181818])"
      ]
     },
     "execution_count": 29,
     "metadata": {},
     "output_type": "execute_result"
    }
   ],
   "source": [
    "axis.transData.transform((-50, -38)) #x,y for bl"
   ]
  },
  {
   "cell_type": "code",
   "execution_count": 30,
   "id": "cbcec7a6-ea8c-43cf-80d6-4a040c1b9ffb",
   "metadata": {
    "tags": []
   },
   "outputs": [
    {
     "data": {
      "text/plain": [
       "array([ 80.        , 404.43636364])"
      ]
     },
     "execution_count": 30,
     "metadata": {},
     "output_type": "execute_result"
    }
   ],
   "source": [
    "axis.transData.transform((-50, 34)) #x,y for tl"
   ]
  },
  {
   "cell_type": "code",
   "execution_count": null,
   "id": "91a9868a-7a32-4f60-aabd-096d5fcde9c6",
   "metadata": {},
   "outputs": [],
   "source": []
  },
  {
   "cell_type": "code",
   "execution_count": 32,
   "id": "dfaf6dcf-b1a3-4668-9b31-5b75686158bf",
   "metadata": {
    "tags": []
   },
   "outputs": [
    {
     "data": {
      "text/plain": [
       "4.509090909166667"
      ]
     },
     "execution_count": 32,
     "metadata": {},
     "output_type": "execute_result"
    }
   ],
   "source": []
  },
  {
   "cell_type": "markdown",
   "id": "562dde3b-569c-49a9-9d2b-909342b03332",
   "metadata": {},
   "source": [
    "## Predict coordinates of wells using 384 well plate class"
   ]
  },
  {
   "cell_type": "code",
   "execution_count": 3,
   "id": "ad16ed64-11c3-490c-967d-59ad2fd18abb",
   "metadata": {
    "tags": []
   },
   "outputs": [
    {
     "name": "stdout",
     "output_type": "stream",
     "text": [
      "search for root_dir and set working directory\n",
      "Working directory set to: /media/ibrahim/Extended Storage/cloud/Internship/bioquant/348_wellplate_automation\n",
      "search for root_dir and set working directory\n",
      "Working directory set to: /media/ibrahim/Extended Storage/cloud/Internship/bioquant/348_wellplate_automation\n"
     ]
    }
   ],
   "source": [
    "import json\n",
    "from ProjectRoot import change_wd_to_project_root\n",
    "change_wd_to_project_root()\n",
    "from DragonFlyWellPlateAutomation.devices.wellplate import WellPlate as wp\n",
    "\n",
    "x_paths = [\"/media/ibrahim/Extended Storage/cloud/Internship/bioquant/348_wellplate_automation/endpoint_outputs/Top right_xposition.json\",\n",
    "          \"/media/ibrahim/Extended Storage/cloud/Internship/bioquant/348_wellplate_automation/endpoint_outputs/Top left_xposition.json\",\n",
    "          \"/media/ibrahim/Extended Storage/cloud/Internship/bioquant/348_wellplate_automation/endpoint_outputs/Bottom left_xposition.json\"]\n",
    "y_paths = [\"/media/ibrahim/Extended Storage/cloud/Internship/bioquant/348_wellplate_automation/endpoint_outputs/Top right_yposition.json\",\n",
    "          \"/media/ibrahim/Extended Storage/cloud/Internship/bioquant/348_wellplate_automation/endpoint_outputs/Top left_yposition.json\",\n",
    "          \"/media/ibrahim/Extended Storage/cloud/Internship/bioquant/348_wellplate_automation/endpoint_outputs/Bottom left_yposition.json\"]\n",
    "\n",
    "tr, tl, bl = [ [eval(json.load(open(x))[\"Value\"]),eval(json.load(open(y))[\"Value\"])] for x,y in zip(x_paths, y_paths) ]\n",
    "r_n, c_n = 16, 24\n",
    "\n",
    "WellPlate = wp()\n",
    "WellPlate.well_plate_req_coords[\"Top right well\"] = WellPlate.vector_2_state_dict(tr)\n",
    "WellPlate.well_plate_req_coords[\"Top left well\"] = WellPlate.vector_2_state_dict(tl)\n",
    "WellPlate.well_plate_req_coords[\"Bottom left well\"] = WellPlate.vector_2_state_dict(bl)"
   ]
  },
  {
   "cell_type": "markdown",
   "id": "ad7ca96b-c055-4add-a25b-98e6ef6c0751",
   "metadata": {},
   "source": [
    "### Try 1: Publication with 4 corners"
   ]
  },
  {
   "cell_type": "code",
   "execution_count": 6,
   "id": "b7d3d12f-89a8-4999-91ea-bf12a2abe815",
   "metadata": {
    "tags": []
   },
   "outputs": [
    {
     "name": "stdout",
     "output_type": "stream",
     "text": [
      "1. Getting all four corner wells coordinates as vectors\n",
      "2. Computing coordinate space from well corners using Linear correction matrix\n",
      "Saving all variables associated to the coordinate system.\n"
     ]
    }
   ],
   "source": [
    "\n",
    "\n",
    "vectors, well_names, length, height, x_spacing = WellPlate.predict_well_coords(c_n, r_n, algorithm=WellPlate.coordinate_frame_algorithms[1], algorithm_H=\"non-linear\", well_plate_req_coords=WellPlate.well_plate_req_coords\n",
    "                            )"
   ]
  },
  {
   "cell_type": "code",
   "execution_count": 7,
   "id": "2586228b-9ff2-4f7f-b4fb-86485c526e59",
   "metadata": {
    "tags": []
   },
   "outputs": [
    {
     "name": "stdout",
     "output_type": "stream",
     "text": [
      "4.509090909166667\n",
      "20.29090909125\n",
      "4.509090909166667\n",
      "20.29090909125\n"
     ]
    },
    {
     "data": {
      "image/png": "[encoded data removed]",
      "text/plain": [
       "<Figure size 640x480 with 1 Axes>"
      ]
     },
     "metadata": {},
     "output_type": "display_data"
    }
   ],
   "source": [
    "# Now visualise on coordinate plot method from publication\n",
    "\n",
    "### Get normalized length and height of axis\n",
    "# Scaling factor of y and x \n",
    "transform = ((404.43636364-79.78181818)/72)\n",
    "well_h= 4.5\n",
    "print(transform)\n",
    "#Pixels\n",
    "well_h_pixels = (well_h * transform) \n",
    "#Points\n",
    "p = 72/100\n",
    "print(well_h_pixels)\n",
    "#s\n",
    "s = (well_h_pixels*p)**2\n",
    "y_offset = (2/16)\n",
    "x_offset = (2/24)\n",
    "fov = 250*10**(-6) * 1024 #height\n",
    "s = (fov*p)**2\n",
    "    \n",
    "axis = create_plot()\n",
    "\n",
    "\n",
    "for vector in vectors:\n",
    "    x,y,_ = vector\n",
    "    axis.scatter(x,y, c=\"r\", s=s*100, marker=\",\")\n"
   ]
  },
  {
   "cell_type": "markdown",
   "id": "f5c9e73e-989f-4dfe-ae00-a74898e43cac",
   "metadata": {
    "tags": []
   },
   "source": [
    "### Try 2: Linear spacing with 3 corners"
   ]
  },
  {
   "cell_type": "code",
   "execution_count": 8,
   "id": "17200c21-59a8-423b-92e0-a1e842c74fb1",
   "metadata": {
    "tags": []
   },
   "outputs": [
    {
     "name": "stdout",
     "output_type": "stream",
     "text": [
      "1. Getting all four corner wells coordinates as vectors\n",
      "2. Computing coordinate space from well corners using Linear spacing\n",
      "Saving all variables associated to the coordinate system.\n",
      "4.509090909166667\n",
      "20.29090909125\n",
      "4.509090909166667\n",
      "20.29090909125\n"
     ]
    },
    {
     "data": {
      "image/png": "[encoded data removed]",
      "text/plain": [
       "<Figure size 640x480 with 1 Axes>"
      ]
     },
     "metadata": {},
     "output_type": "display_data"
    }
   ],
   "source": [
    "vectors, well_names, length, height, x_spacing = WellPlate.predict_well_coords(c_n, r_n, algorithm=\"Linear spacing\", algorithm_H=\"non-linear\", well_plate_req_coords=WellPlate.well_plate_req_coords\n",
    "                            )\n",
    "\n",
    "### Get normalized length and height of axis\n",
    "# Scaling factor of y and x \n",
    "transform = ((404.43636364-79.78181818)/72)\n",
    "well_h= 4.5\n",
    "print(transform)\n",
    "#Pixels\n",
    "well_h_pixels = (well_h * transform) \n",
    "#Points\n",
    "p = 72/100\n",
    "print(well_h_pixels)\n",
    "#s\n",
    "s = (well_h_pixels*p)**2\n",
    "y_offset = (2/16)\n",
    "x_offset = (2/24)\n",
    "fov = 250*10**(-6) * 1024 #height\n",
    "s = (fov*p)**2\n",
    "    \n",
    "axis = create_plot()\n",
    "\n",
    "vectors = np.array(vectors, dtype=np.float32)\n",
    "if len(vectors[0]) < 3:\n",
    "    vectors = np.hstack((np.array(vectors, dtype=np.float32), np.zeros((len(vectors),1))))\n",
    "for vector in vectors:\n",
    "    x,y,_ = vector\n",
    "    axis.scatter(x,y, c=\"r\", s=s*100, marker=\",\")"
   ]
  },
  {
   "cell_type": "markdown",
   "id": "2ce538bf-c5e0-4db7-a15d-baf8d6b8bcd1",
   "metadata": {},
   "source": [
    "### Try 3: Homography estimated using SVD and fixit"
   ]
  },
  {
   "cell_type": "code",
   "execution_count": 4,
   "id": "075759b5-8d2e-497d-9485-921ec2357839",
   "metadata": {
    "tags": []
   },
   "outputs": [
    {
     "name": "stdout",
     "output_type": "stream",
     "text": [
      "1. Getting all four corner wells coordinates as vectors\n",
      "2. Computing coordinate space from well corners using Homography\n",
      "Learning the homography matrix using linear to map from well plate row and column arrangement to xzy-stage coordinate space\n",
      "Saving all variables associated to the coordinate system.\n",
      "4.509090909166667\n",
      "20.29090909125\n",
      "4.509090909166667\n",
      "20.29090909125\n"
     ]
    },
    {
     "data": {
      "image/png": "[encoded data removed]",
      "text/plain": [
       "<Figure size 640x480 with 1 Axes>"
      ]
     },
     "metadata": {},
     "output_type": "display_data"
    }
   ],
   "source": [
    "vectors, well_names, length, height, x_spacing = WellPlate.predict_well_coords(c_n, r_n, algorithm=\"Homography\", algorithm_H=\"linear\", well_plate_req_coords=WellPlate.well_plate_req_coords\n",
    "                            )\n",
    "\n",
    "### Get normalized length and height of axis\n",
    "# Scaling factor of y and x \n",
    "transform = ((404.43636364-79.78181818)/72)\n",
    "well_h= 4.5\n",
    "print(transform)\n",
    "#Pixels\n",
    "well_h_pixels = (well_h * transform) \n",
    "#Points\n",
    "p = 72/100\n",
    "print(well_h_pixels)\n",
    "#s\n",
    "s = (well_h_pixels*p)**2\n",
    "y_offset = (2/16)\n",
    "x_offset = (2/24)\n",
    "fov = 250*10**(-6) * 1024 #height\n",
    "s = (fov*p)**2\n",
    "    \n",
    "axis = create_plot()\n",
    "\n",
    "vectors = np.array(vectors, dtype=np.float32)\n",
    "if len(vectors[0]) < 3:\n",
    "    vectors = np.hstack((np.array(vectors, dtype=np.float32), np.zeros((len(vectors),1))))\n",
    "for vector in vectors:\n",
    "    x,y,_ = vector\n",
    "    axis.scatter(x,y, c=\"r\", s=s*100, marker=\",\")"
   ]
  },
  {
   "cell_type": "markdown",
   "id": "3484818d-6f9e-4512-af6d-0e830330758c",
   "metadata": {},
   "source": [
    "### Try 4: RANSAC Homography"
   ]
  },
  {
   "cell_type": "code",
   "execution_count": 5,
   "id": "61f1c4ed-cf78-4026-b832-7f5f597fc10f",
   "metadata": {
    "tags": []
   },
   "outputs": [
    {
     "name": "stdout",
     "output_type": "stream",
     "text": [
      "1. Getting all four corner wells coordinates as vectors\n",
      "2. Computing coordinate space from well corners using Homography\n",
      "Learning the homography matrix using Levenberg-Marquardt to map from well plate row and column arrangement to xzy-stage coordinate space\n",
      "Saving all variables associated to the coordinate system.\n",
      "4.509090909166667\n",
      "20.29090909125\n",
      "4.509090909166667\n",
      "20.29090909125\n"
     ]
    },
    {
     "data": {
      "image/png": "[encoded data removed]",
      "text/plain": [
       "<Figure size 640x480 with 1 Axes>"
      ]
     },
     "metadata": {},
     "output_type": "display_data"
    }
   ],
   "source": [
    "vectors, well_names, length, height, x_spacing = WellPlate.predict_well_coords(c_n, r_n, algorithm=\"Homography\", algorithm_H=\"Levenberg-Marquardt\", well_plate_req_coords=WellPlate.well_plate_req_coords\n",
    "                            )\n",
    "\n",
    "### Get normalized length and height of axis\n",
    "# Scaling factor of y and x \n",
    "transform = ((404.43636364-79.78181818)/72)\n",
    "well_h= 4.5\n",
    "print(transform)\n",
    "#Pixels\n",
    "well_h_pixels = (well_h * transform) \n",
    "#Points\n",
    "p = 72/100\n",
    "print(well_h_pixels)\n",
    "#s\n",
    "s = (well_h_pixels*p)**2\n",
    "y_offset = (2/16)\n",
    "x_offset = (2/24)\n",
    "fov = 250*10**(-6) * 1024 #height\n",
    "s = (fov*p)**2\n",
    "    \n",
    "axis = create_plot()\n",
    "\n",
    "vectors = np.array(vectors, dtype=np.float32)\n",
    "if len(vectors[0]) < 3:\n",
    "    vectors = np.hstack((np.array(vectors, dtype=np.float32), np.zeros((len(vectors),1))))\n",
    "for vector in vectors:\n",
    "    x,y,_ = vector\n",
    "    axis.scatter(x,y, c=\"r\", s=s*100, marker=\",\")"
   ]
  },
  {
   "cell_type": "code",
   "execution_count": null,
   "id": "049eb8de-e8e3-4a64-aa1a-40e692bb2133",
   "metadata": {},
   "outputs": [],
   "source": []
  }
 ],
 "metadata": {
  "kernelspec": {
   "display_name": "bioquant",
   "language": "python",
   "name": "bioquant"
  },
  "language_info": {
   "codemirror_mode": {
    "name": "ipython",
    "version": 3
   },
   "file_extension": ".py",
   "mimetype": "text/x-python",
   "name": "python",
   "nbconvert_exporter": "python",
   "pygments_lexer": "ipython3",
   "version": "3.8.18"
  }
 },
 "nbformat": 4,
 "nbformat_minor": 5
}
